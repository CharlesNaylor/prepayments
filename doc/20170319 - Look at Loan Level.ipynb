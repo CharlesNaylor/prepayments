{
 "cells": [
  {
   "cell_type": "markdown",
   "metadata": {},
   "source": [
    "# Loan Level\n",
    "\n",
    "2. What does the data look like?\n",
    "1. Do we actually have every loan for a given pool?"
   ]
  },
  {
   "cell_type": "code",
   "execution_count": 1,
   "metadata": {},
   "outputs": [
    {
     "name": "stderr",
     "output_type": "stream",
     "text": [
      "/usr/local/lib/python2.7/dist-packages/matplotlib/font_manager.py:273: UserWarning: Matplotlib is building the font cache using fc-list. This may take a moment.\n",
      "  warnings.warn('Matplotlib is building the font cache using fc-list. This may take a moment.')\n"
     ]
    }
   ],
   "source": [
    "import os\n",
    "os.chdir(\"/home/charles/src/LondonMirror/Prepayments/\")\n",
    "\n",
    "import prepayments as pp\n",
    "import numpy as np\n",
    "import pandas as pd\n",
    "import ggplot as gg\n",
    "import datetime\n",
    "\n",
    "import tables"
   ]
  },
  {
   "cell_type": "code",
   "execution_count": 2,
   "metadata": {},
   "outputs": [
    {
     "name": "stdout",
     "output_type": "stream",
     "text": [
      "Populating the interactive namespace from numpy and matplotlib\n"
     ]
    }
   ],
   "source": [
    "%pylab inline"
   ]
  },
  {
   "cell_type": "code",
   "execution_count": 3,
   "metadata": {
    "collapsed": true
   },
   "outputs": [],
   "source": [
    "ll = pp.gnm_data.GNM_II_LL()"
   ]
  },
  {
   "cell_type": "markdown",
   "metadata": {},
   "source": [
    "Get 10000 samples to look at in R"
   ]
  },
  {
   "cell_type": "code",
   "execution_count": 4,
   "metadata": {
    "collapsed": true
   },
   "outputs": [],
   "source": [
    "samples = ll.get_samples(10000)"
   ]
  },
  {
   "cell_type": "code",
   "execution_count": 24,
   "metadata": {},
   "outputs": [
    {
     "data": {
      "text/plain": [
       "(10000, 33)"
      ]
     },
     "execution_count": 24,
     "metadata": {},
     "output_type": "execute_result"
    }
   ],
   "source": [
    "samples.shape"
   ]
  },
  {
   "cell_type": "code",
   "execution_count": 5,
   "metadata": {},
   "outputs": [
    {
     "data": {
      "text/html": [
       "<div>\n",
       "<table border=\"1\" class=\"dataframe\">\n",
       "  <thead>\n",
       "    <tr style=\"text-align: right;\">\n",
       "      <th></th>\n",
       "      <th></th>\n",
       "      <th>agency</th>\n",
       "      <th>annual_mip</th>\n",
       "      <th>buy_down_status</th>\n",
       "      <th>credit_score</th>\n",
       "      <th>current_month_liquidation</th>\n",
       "      <th>down_payment_assistance</th>\n",
       "      <th>first_payment_date</th>\n",
       "      <th>first_time</th>\n",
       "      <th>issuer_id</th>\n",
       "      <th>loan_age</th>\n",
       "      <th>...</th>\n",
       "      <th>property_type</th>\n",
       "      <th>refinance_type</th>\n",
       "      <th>remaining_loan_term</th>\n",
       "      <th>removal_reason</th>\n",
       "      <th>seller_issuer_id</th>\n",
       "      <th>state</th>\n",
       "      <th>total_debt_expense_ratio</th>\n",
       "      <th>upb</th>\n",
       "      <th>upb_at_issuance</th>\n",
       "      <th>upfront_mip</th>\n",
       "    </tr>\n",
       "    <tr>\n",
       "      <th>dsn</th>\n",
       "      <th>as_of_date</th>\n",
       "      <th></th>\n",
       "      <th></th>\n",
       "      <th></th>\n",
       "      <th></th>\n",
       "      <th></th>\n",
       "      <th></th>\n",
       "      <th></th>\n",
       "      <th></th>\n",
       "      <th></th>\n",
       "      <th></th>\n",
       "      <th></th>\n",
       "      <th></th>\n",
       "      <th></th>\n",
       "      <th></th>\n",
       "      <th></th>\n",
       "      <th></th>\n",
       "      <th></th>\n",
       "      <th></th>\n",
       "      <th></th>\n",
       "      <th></th>\n",
       "      <th></th>\n",
       "    </tr>\n",
       "  </thead>\n",
       "  <tbody>\n",
       "    <tr>\n",
       "      <th>1500179385</th>\n",
       "      <th>2014-05-01</th>\n",
       "      <td>F</td>\n",
       "      <td>1250</td>\n",
       "      <td>False</td>\n",
       "      <td>664</td>\n",
       "      <td>False</td>\n",
       "      <td>False</td>\n",
       "      <td>2013-07-01</td>\n",
       "      <td>True</td>\n",
       "      <td>3355</td>\n",
       "      <td>11</td>\n",
       "      <td>...</td>\n",
       "      <td>1</td>\n",
       "      <td>blank</td>\n",
       "      <td>349</td>\n",
       "      <td>blank</td>\n",
       "      <td>0</td>\n",
       "      <td>AZ</td>\n",
       "      <td>4248</td>\n",
       "      <td>14792590</td>\n",
       "      <td>15100000</td>\n",
       "      <td>1750</td>\n",
       "    </tr>\n",
       "    <tr>\n",
       "      <th>1010831970</th>\n",
       "      <th>2016-10-01</th>\n",
       "      <td>F</td>\n",
       "      <td>1200</td>\n",
       "      <td>False</td>\n",
       "      <td>645</td>\n",
       "      <td>False</td>\n",
       "      <td>False</td>\n",
       "      <td>2013-01-01</td>\n",
       "      <td>False</td>\n",
       "      <td>3355</td>\n",
       "      <td>46</td>\n",
       "      <td>...</td>\n",
       "      <td>1</td>\n",
       "      <td>blank</td>\n",
       "      <td>307</td>\n",
       "      <td>blank</td>\n",
       "      <td>0</td>\n",
       "      <td>GA</td>\n",
       "      <td>0</td>\n",
       "      <td>31386031</td>\n",
       "      <td>34600000</td>\n",
       "      <td>1750</td>\n",
       "    </tr>\n",
       "    <tr>\n",
       "      <th>1010892867</th>\n",
       "      <th>2014-03-01</th>\n",
       "      <td>F</td>\n",
       "      <td>550</td>\n",
       "      <td>False</td>\n",
       "      <td>0</td>\n",
       "      <td>False</td>\n",
       "      <td>False</td>\n",
       "      <td>2012-12-01</td>\n",
       "      <td>False</td>\n",
       "      <td>4049</td>\n",
       "      <td>16</td>\n",
       "      <td>...</td>\n",
       "      <td>1</td>\n",
       "      <td>Streamlined</td>\n",
       "      <td>344</td>\n",
       "      <td>blank</td>\n",
       "      <td>0</td>\n",
       "      <td>MD</td>\n",
       "      <td>0</td>\n",
       "      <td>25224877</td>\n",
       "      <td>25900000</td>\n",
       "      <td>10</td>\n",
       "    </tr>\n",
       "    <tr>\n",
       "      <th>1018032296</th>\n",
       "      <th>2014-04-01</th>\n",
       "      <td>F</td>\n",
       "      <td>550</td>\n",
       "      <td>False</td>\n",
       "      <td>655</td>\n",
       "      <td>False</td>\n",
       "      <td>False</td>\n",
       "      <td>2010-07-01</td>\n",
       "      <td>True</td>\n",
       "      <td>3355</td>\n",
       "      <td>46</td>\n",
       "      <td>...</td>\n",
       "      <td>1</td>\n",
       "      <td>blank</td>\n",
       "      <td>291</td>\n",
       "      <td>blank</td>\n",
       "      <td>0</td>\n",
       "      <td>OK</td>\n",
       "      <td>0</td>\n",
       "      <td>12522468</td>\n",
       "      <td>13800000</td>\n",
       "      <td>2250</td>\n",
       "    </tr>\n",
       "    <tr>\n",
       "      <th>1011254315</th>\n",
       "      <th>2015-04-01</th>\n",
       "      <td>F</td>\n",
       "      <td>550</td>\n",
       "      <td>False</td>\n",
       "      <td>758</td>\n",
       "      <td>False</td>\n",
       "      <td>False</td>\n",
       "      <td>2010-02-01</td>\n",
       "      <td>False</td>\n",
       "      <td>3355</td>\n",
       "      <td>63</td>\n",
       "      <td>...</td>\n",
       "      <td>1</td>\n",
       "      <td>blank</td>\n",
       "      <td>297</td>\n",
       "      <td>blank</td>\n",
       "      <td>0</td>\n",
       "      <td>WA</td>\n",
       "      <td>0</td>\n",
       "      <td>17856102</td>\n",
       "      <td>20000000</td>\n",
       "      <td>1750</td>\n",
       "    </tr>\n",
       "  </tbody>\n",
       "</table>\n",
       "<p>5 rows × 33 columns</p>\n",
       "</div>"
      ],
      "text/plain": [
       "                      agency  annual_mip buy_down_status  credit_score  \\\n",
       "dsn        as_of_date                                                    \n",
       "1500179385 2014-05-01      F        1250           False           664   \n",
       "1010831970 2016-10-01      F        1200           False           645   \n",
       "1010892867 2014-03-01      F         550           False             0   \n",
       "1018032296 2014-04-01      F         550           False           655   \n",
       "1011254315 2015-04-01      F         550           False           758   \n",
       "\n",
       "                      current_month_liquidation down_payment_assistance  \\\n",
       "dsn        as_of_date                                                     \n",
       "1500179385 2014-05-01                     False                   False   \n",
       "1010831970 2016-10-01                     False                   False   \n",
       "1010892867 2014-03-01                     False                   False   \n",
       "1018032296 2014-04-01                     False                   False   \n",
       "1011254315 2015-04-01                     False                   False   \n",
       "\n",
       "                      first_payment_date first_time  issuer_id  loan_age  \\\n",
       "dsn        as_of_date                                                      \n",
       "1500179385 2014-05-01         2013-07-01       True       3355        11   \n",
       "1010831970 2016-10-01         2013-01-01      False       3355        46   \n",
       "1010892867 2014-03-01         2012-12-01      False       4049        16   \n",
       "1018032296 2014-04-01         2010-07-01       True       3355        46   \n",
       "1011254315 2015-04-01         2010-02-01      False       3355        63   \n",
       "\n",
       "                          ...       property_type  refinance_type  \\\n",
       "dsn        as_of_date     ...                                       \n",
       "1500179385 2014-05-01     ...                   1           blank   \n",
       "1010831970 2016-10-01     ...                   1           blank   \n",
       "1010892867 2014-03-01     ...                   1     Streamlined   \n",
       "1018032296 2014-04-01     ...                   1           blank   \n",
       "1011254315 2015-04-01     ...                   1           blank   \n",
       "\n",
       "                      remaining_loan_term removal_reason  seller_issuer_id  \\\n",
       "dsn        as_of_date                                                        \n",
       "1500179385 2014-05-01                 349          blank                 0   \n",
       "1010831970 2016-10-01                 307          blank                 0   \n",
       "1010892867 2014-03-01                 344          blank                 0   \n",
       "1018032296 2014-04-01                 291          blank                 0   \n",
       "1011254315 2015-04-01                 297          blank                 0   \n",
       "\n",
       "                      state  total_debt_expense_ratio       upb  \\\n",
       "dsn        as_of_date                                             \n",
       "1500179385 2014-05-01    AZ                      4248  14792590   \n",
       "1010831970 2016-10-01    GA                         0  31386031   \n",
       "1010892867 2014-03-01    MD                         0  25224877   \n",
       "1018032296 2014-04-01    OK                         0  12522468   \n",
       "1011254315 2015-04-01    WA                         0  17856102   \n",
       "\n",
       "                       upb_at_issuance  upfront_mip  \n",
       "dsn        as_of_date                                \n",
       "1500179385 2014-05-01         15100000         1750  \n",
       "1010831970 2016-10-01         34600000         1750  \n",
       "1010892867 2014-03-01         25900000           10  \n",
       "1018032296 2014-04-01         13800000         2250  \n",
       "1011254315 2015-04-01         20000000         1750  \n",
       "\n",
       "[5 rows x 33 columns]"
      ]
     },
     "execution_count": 5,
     "metadata": {},
     "output_type": "execute_result"
    }
   ],
   "source": [
    "samples.head()"
   ]
  },
  {
   "cell_type": "code",
   "execution_count": 8,
   "metadata": {},
   "outputs": [
    {
     "data": {
      "text/plain": [
       "Index([u'agency', u'annual_mip', u'buy_down_status', u'credit_score',\n",
       "       u'current_month_liquidation', u'down_payment_assistance',\n",
       "       u'first_payment_date', u'first_time', u'issuer_id', u'loan_age',\n",
       "       u'loan_gross_margin', u'loan_interest_rate', u'loan_origination_date',\n",
       "       u'loan_purpose', u'ltv', u'maturity_date', u'months_delinquent',\n",
       "       u'months_prepaid', u'number_of_borrowers', u'original_loan_term',\n",
       "       u'original_principal_balance', u'origination_type', u'pool_id',\n",
       "       u'property_type', u'refinance_type', u'remaining_loan_term',\n",
       "       u'removal_reason', u'seller_issuer_id', u'state',\n",
       "       u'total_debt_expense_ratio', u'upb', u'upb_at_issuance',\n",
       "       u'upfront_mip'],\n",
       "      dtype='object')"
      ]
     },
     "execution_count": 8,
     "metadata": {},
     "output_type": "execute_result"
    }
   ],
   "source": [
    "samples.columns"
   ]
  },
  {
   "cell_type": "markdown",
   "metadata": {},
   "source": [
    "Switch zeros to NAs where appropriate."
   ]
  },
  {
   "cell_type": "markdown",
   "metadata": {},
   "source": [
    "A blank credit score can mean < 300, > 850, or the record is from before feb. 2011."
   ]
  },
  {
   "cell_type": "code",
   "execution_count": 28,
   "metadata": {
    "collapsed": true
   },
   "outputs": [],
   "source": [
    "samples.credit_score.where(samples.credit_score > 0, np.NaN, inplace=True)"
   ]
  },
  {
   "cell_type": "code",
   "execution_count": 44,
   "metadata": {
    "collapsed": true
   },
   "outputs": [],
   "source": [
    "samples.loan_origination_date.where(~(samples.loan_origination_date == pd.Timestamp(\"1970-01-01\")),\n",
    "                                    np.NaN, inplace=True)"
   ]
  },
  {
   "cell_type": "code",
   "execution_count": 48,
   "metadata": {
    "collapsed": true
   },
   "outputs": [],
   "source": [
    "samples.ltv.where(~(samples.ltv == 0), np.NaN, inplace=True)"
   ]
  },
  {
   "cell_type": "markdown",
   "metadata": {},
   "source": [
    "Maturity date is screwed up."
   ]
  },
  {
   "cell_type": "code",
   "execution_count": 54,
   "metadata": {
    "collapsed": true
   },
   "outputs": [],
   "source": [
    "samples.original_loan_term.where(~(samples.original_loan_term==0), np.NaN, inplace=True)"
   ]
  },
  {
   "cell_type": "code",
   "execution_count": 62,
   "metadata": {},
   "outputs": [
    {
     "data": {
      "text/plain": [
       "Series([], Name: original_principal_balance, dtype: float64)"
      ]
     },
     "execution_count": 62,
     "metadata": {},
     "output_type": "execute_result"
    }
   ],
   "source": [
    "samples.original_principal_balance.where(samples.original_principal_balance==0).dropna()"
   ]
  },
  {
   "cell_type": "code",
   "execution_count": 74,
   "metadata": {
    "collapsed": true
   },
   "outputs": [],
   "source": [
    "samples.origination_type.where(~(samples.origination_type=='blank'),np.NaN, inplace=True)"
   ]
  },
  {
   "cell_type": "code",
   "execution_count": 80,
   "metadata": {
    "collapsed": true
   },
   "outputs": [],
   "source": [
    "samples.property_type.where(~(samples.property_type==0), np.NaN, inplace=True)"
   ]
  },
  {
   "cell_type": "code",
   "execution_count": 86,
   "metadata": {
    "collapsed": true
   },
   "outputs": [],
   "source": [
    "samples.loan_purpose.where(~(samples.loan_purpose=='blank'), np.NaN, inplace=True)"
   ]
  },
  {
   "cell_type": "code",
   "execution_count": 85,
   "metadata": {
    "collapsed": true
   },
   "outputs": [],
   "source": [
    "samples.refinance_type.where(~(samples.refinance_type=='blank'), np.NaN, inplace=True)"
   ]
  },
  {
   "cell_type": "code",
   "execution_count": 91,
   "metadata": {
    "collapsed": true
   },
   "outputs": [],
   "source": [
    "samples.removal_reason.where(~(samples.removal_reason=='blank'), np.NaN, inplace=True)"
   ]
  },
  {
   "cell_type": "markdown",
   "metadata": {},
   "source": [
    "Total debt expense is censored for values of < 10% or > 65%."
   ]
  },
  {
   "cell_type": "code",
   "execution_count": 94,
   "metadata": {
    "collapsed": true
   },
   "outputs": [],
   "source": [
    "samples.total_debt_expense_ratio.where(~(samples.total_debt_expense_ratio==0), np.NaN, inplace=True)"
   ]
  },
  {
   "cell_type": "code",
   "execution_count": 95,
   "metadata": {},
   "outputs": [
    {
     "data": {
      "text/plain": [
       "<matplotlib.axes._subplots.AxesSubplot at 0x7f38a37b19d0>"
      ]
     },
     "execution_count": 95,
     "metadata": {},
     "output_type": "execute_result"
    },
    {
     "data": {
      "image/png": "[encoded data removed]",
      "text/plain": [
       "<matplotlib.figure.Figure at 0x7f38a35ca3d0>"
      ]
     },
     "metadata": {},
     "output_type": "display_data"
    }
   ],
   "source": [
    "samples.upb.plot(kind='hist')"
   ]
  },
  {
   "cell_type": "code",
   "execution_count": 96,
   "metadata": {},
   "outputs": [
    {
     "data": {
      "text/plain": [
       "1353"
      ]
     },
     "execution_count": 96,
     "metadata": {},
     "output_type": "execute_result"
    }
   ],
   "source": [
    "samples.upb.value_counts()[0]"
   ]
  },
  {
   "cell_type": "markdown",
   "metadata": {},
   "source": [
    "UPB blank for first 6 months (seasoning)"
   ]
  },
  {
   "cell_type": "code",
   "execution_count": 97,
   "metadata": {},
   "outputs": [
    {
     "data": {
      "text/plain": [
       "False    1343\n",
       "True       10\n",
       "Name: current_month_liquidation, dtype: int64"
      ]
     },
     "execution_count": 97,
     "metadata": {},
     "output_type": "execute_result"
    }
   ],
   "source": [
    "samples.ix[samples.upb==0,'current_month_liquidation'].value_counts()"
   ]
  },
  {
   "cell_type": "code",
   "execution_count": 98,
   "metadata": {
    "collapsed": true
   },
   "outputs": [],
   "source": [
    "samples.upb.where(~(samples.upb==0), np.NaN, inplace=True)"
   ]
  },
  {
   "cell_type": "code",
   "execution_count": 99,
   "metadata": {},
   "outputs": [
    {
     "data": {
      "text/plain": [
       "<matplotlib.axes._subplots.AxesSubplot at 0x7f38a35db290>"
      ]
     },
     "execution_count": 99,
     "metadata": {},
     "output_type": "execute_result"
    },
    {
     "data": {
      "image/png": "[encoded data removed]",
      "text/plain": [
       "<matplotlib.figure.Figure at 0x7f38a38e7250>"
      ]
     },
     "metadata": {},
     "output_type": "display_data"
    }
   ],
   "source": [
    "samples.upb_at_issuance.plot(kind='hist')"
   ]
  },
  {
   "cell_type": "code",
   "execution_count": 111,
   "metadata": {
    "collapsed": true
   },
   "outputs": [],
   "source": [
    "samples.upb_at_issuance.where(~(samples.upb_at_issuance==0), np.NaN, inplace=True)"
   ]
  },
  {
   "cell_type": "code",
   "execution_count": 112,
   "metadata": {},
   "outputs": [
    {
     "data": {
      "text/plain": [
       "<matplotlib.axes._subplots.AxesSubplot at 0x7f38a366c950>"
      ]
     },
     "execution_count": 112,
     "metadata": {},
     "output_type": "execute_result"
    },
    {
     "data": {
      "image/png": "[encoded data removed]",
      "text/plain": [
       "<matplotlib.figure.Figure at 0x7f38a31ca090>"
      ]
     },
     "metadata": {},
     "output_type": "display_data"
    }
   ],
   "source": [
    "samples.upfront_mip.plot(kind='hist')"
   ]
  },
  {
   "cell_type": "markdown",
   "metadata": {},
   "source": [
    "Now, did any records with missing data have a prepayment event?"
   ]
  },
  {
   "cell_type": "code",
   "execution_count": 109,
   "metadata": {},
   "outputs": [
    {
     "data": {
      "text/plain": [
       "Series([], Name: current_month_liquidation, dtype: int64)"
      ]
     },
     "execution_count": 109,
     "metadata": {},
     "output_type": "execute_result"
    }
   ],
   "source": [
    "samples.dropna().current_month_liquidation.value_counts()"
   ]
  },
  {
   "cell_type": "markdown",
   "metadata": {},
   "source": [
    "Not all NAs are missing data. bad test.\n",
    "\n",
    "Now, what's up with maturity date?"
   ]
  },
  {
   "cell_type": "code",
   "execution_count": 120,
   "metadata": {},
   "outputs": [
    {
     "data": {
      "text/plain": [
       "Timestamp('2013-10-01 00:00:00')"
      ]
     },
     "execution_count": 120,
     "metadata": {},
     "output_type": "execute_result"
    }
   ],
   "source": [
    "pd.Timestamp.fromtimestamp(ll.loans_table[0]['as_of_date'])"
   ]
  },
  {
   "cell_type": "code",
   "execution_count": 123,
   "metadata": {},
   "outputs": [
    {
     "data": {
      "text/plain": [
       "Timestamp('2022-05-01 00:00:00')"
      ]
     },
     "execution_count": 123,
     "metadata": {},
     "output_type": "execute_result"
    }
   ],
   "source": [
    "pd.Timestamp.fromtimestamp(ll.loans_table[0]['maturity_date'])"
   ]
  },
  {
   "cell_type": "code",
   "execution_count": 124,
   "metadata": {},
   "outputs": [
    {
     "data": {
      "text/plain": [
       "dsn         as_of_date\n",
       "1502823888  2016-12-01   1903-09-25 16:31:44\n",
       "1500585181  2014-04-01   1907-05-25 16:31:44\n",
       "1013582990  2014-10-01   1905-10-25 17:31:44\n",
       "1015811547  2014-12-01   1905-06-25 16:31:44\n",
       "1501970839  2015-03-01   1908-04-25 16:31:44\n",
       "Name: maturity_date, dtype: datetime64[ns]"
      ]
     },
     "execution_count": 124,
     "metadata": {},
     "output_type": "execute_result"
    }
   ],
   "source": [
    "samples.maturity_date.tail()"
   ]
  },
  {
   "cell_type": "code",
   "execution_count": 125,
   "metadata": {
    "collapsed": true
   },
   "outputs": [],
   "source": [
    "test_str = \"LAE602515028238882936V232014120120391101042500001320000000013200000           30000429600                   517NN          2 1PA     3N 201503\""
   ]
  },
  {
   "cell_type": "code",
   "execution_count": 126,
   "metadata": {},
   "outputs": [
    {
     "data": {
      "text/plain": [
       "'20391101'"
      ]
     },
     "execution_count": 126,
     "metadata": {},
     "output_type": "execute_result"
    }
   ],
   "source": [
    "test_str_split = {k:test_str.__getslice__(*v) for k,v in ll.LOAN_DEF.items()}\n",
    "test_str_split['maturity_date']"
   ]
  },
  {
   "cell_type": "code",
   "execution_count": 129,
   "metadata": {
    "collapsed": true
   },
   "outputs": [],
   "source": [
    "m_dt = ll.parse_entry(test_str_split['maturity_date'],'maturity_date', ll.Loans)"
   ]
  },
  {
   "cell_type": "code",
   "execution_count": 130,
   "metadata": {},
   "outputs": [
    {
     "data": {
      "text/plain": [
       "Timestamp('2039-11-01 00:00:00')"
      ]
     },
     "execution_count": 130,
     "metadata": {},
     "output_type": "execute_result"
    }
   ],
   "source": [
    "pd.Timestamp.fromtimestamp(m_dt)"
   ]
  },
  {
   "cell_type": "markdown",
   "metadata": {},
   "source": [
    "Seems to work fine. Maybe it's something I fixed. I note that I'm storing 32 bit time, and this is beyond the epoch."
   ]
  },
  {
   "cell_type": "code",
   "execution_count": 131,
   "metadata": {},
   "outputs": [
    {
     "data": {
      "text/plain": [
       "time.struct_time(tm_year=2039, tm_mon=11, tm_mday=1, tm_hour=0, tm_min=0, tm_sec=0, tm_wday=1, tm_yday=305, tm_isdst=-1)"
      ]
     },
     "execution_count": 131,
     "metadata": {},
     "output_type": "execute_result"
    }
   ],
   "source": [
    "import time\n",
    "time.strptime(test_str_split['maturity_date'], \"%Y%m%d\")"
   ]
  },
  {
   "cell_type": "code",
   "execution_count": 133,
   "metadata": {},
   "outputs": [
    {
     "data": {
      "text/plain": [
       "float"
      ]
     },
     "execution_count": 133,
     "metadata": {},
     "output_type": "execute_result"
    }
   ],
   "source": [
    "time.mktime(time.strptime(test_str_split['maturity_date'], \"%Y%m%d\"))"
   ]
  },
  {
   "cell_type": "code",
   "execution_count": 193,
   "metadata": {
    "collapsed": true
   },
   "outputs": [],
   "source": [
    "for row in ll.loans_table.where(\"maturity_date < 0\"):\n",
    "    jim = row\n",
    "    break"
   ]
  },
  {
   "cell_type": "code",
   "execution_count": 136,
   "metadata": {},
   "outputs": [
    {
     "data": {
      "text/plain": [
       "-1962408496"
      ]
     },
     "execution_count": 136,
     "metadata": {},
     "output_type": "execute_result"
    }
   ],
   "source": [
    "jim['maturity_date']"
   ]
  },
  {
   "cell_type": "code",
   "execution_count": 137,
   "metadata": {},
   "outputs": [
    {
     "data": {
      "text/plain": [
       "1021331278"
      ]
     },
     "execution_count": 137,
     "metadata": {},
     "output_type": "execute_result"
    }
   ],
   "source": [
    "jim['dsn']"
   ]
  },
  {
   "cell_type": "code",
   "execution_count": 138,
   "metadata": {},
   "outputs": [
    {
     "data": {
      "text/plain": [
       "Timestamp('2013-10-01 00:00:00')"
      ]
     },
     "execution_count": 138,
     "metadata": {},
     "output_type": "execute_result"
    }
   ],
   "source": [
    "pd.Timestamp.fromtimestamp(jim['as_of_date'])"
   ]
  },
  {
   "cell_type": "markdown",
   "metadata": {},
   "source": [
    "Look that up in the file"
   ]
  },
  {
   "cell_type": "code",
   "execution_count": 139,
   "metadata": {
    "collapsed": true
   },
   "outputs": [],
   "source": [
    "correct_maturity = pd.Timestamp(\"2043-12-01\")"
   ]
  },
  {
   "cell_type": "markdown",
   "metadata": {},
   "source": [
    "Unix epoch ends @ $2^{31}-1$, it takes 1 digit to clock over, so corrected number is $2*(2^{31}) + ts$, where ts is the overflowed timestamp. I.e. $2^{32}+ts$"
   ]
  },
  {
   "cell_type": "code",
   "execution_count": 194,
   "metadata": {},
   "outputs": [
    {
     "data": {
      "text/plain": [
       "Timestamp('2043-12-01 00:00:00')"
      ]
     },
     "execution_count": 194,
     "metadata": {},
     "output_type": "execute_result"
    }
   ],
   "source": [
    "pd.Timestamp.fromtimestamp(2**32 + jim['maturity_date'])"
   ]
  },
  {
   "cell_type": "code",
   "execution_count": 195,
   "metadata": {},
   "outputs": [
    {
     "name": "stdout",
     "output_type": "stream",
     "text": [
      "<class 'pandas.core.frame.DataFrame'>\n",
      "MultiIndex: 10000 entries, (1500179385, 2014-05-01 00:00:00) to (1501970839, 2015-03-01 00:00:00)\n",
      "Data columns (total 33 columns):\n",
      "agency                        10000 non-null object\n",
      "annual_mip                    10000 non-null int32\n",
      "buy_down_status               10000 non-null bool\n",
      "credit_score                  8167 non-null float64\n",
      "current_month_liquidation     10000 non-null bool\n",
      "down_payment_assistance       10000 non-null bool\n",
      "first_payment_date            10000 non-null datetime64[ns]\n",
      "first_time                    10000 non-null bool\n",
      "issuer_id                     10000 non-null int16\n",
      "loan_age                      10000 non-null int16\n",
      "loan_gross_margin             10000 non-null int32\n",
      "loan_interest_rate            10000 non-null float64\n",
      "loan_origination_date         1458 non-null datetime64[ns]\n",
      "loan_purpose                  9704 non-null object\n",
      "ltv                           8949 non-null float64\n",
      "maturity_date                 10000 non-null datetime64[ns]\n",
      "months_delinquent             10000 non-null int8\n",
      "months_prepaid                10000 non-null int8\n",
      "number_of_borrowers           10000 non-null int8\n",
      "original_loan_term            9868 non-null float64\n",
      "original_principal_balance    10000 non-null int32\n",
      "origination_type              4936 non-null object\n",
      "pool_id                       10000 non-null object\n",
      "property_type                 9655 non-null float64\n",
      "refinance_type                2196 non-null object\n",
      "remaining_loan_term           10000 non-null int16\n",
      "removal_reason                128 non-null object\n",
      "seller_issuer_id              10000 non-null int16\n",
      "state                         10000 non-null object\n",
      "total_debt_expense_ratio      4373 non-null float64\n",
      "upb                           8647 non-null float64\n",
      "upb_at_issuance               9052 non-null float64\n",
      "upfront_mip                   10000 non-null int32\n",
      "dtypes: bool(4), datetime64[ns](3), float64(8), int16(4), int32(4), int8(3), object(7)\n",
      "memory usage: 1.8+ MB\n"
     ]
    }
   ],
   "source": [
    "samples.info()"
   ]
  },
  {
   "cell_type": "code",
   "execution_count": 197,
   "metadata": {},
   "outputs": [
    {
     "data": {
      "text/plain": [
       "0"
      ]
     },
     "execution_count": 197,
     "metadata": {},
     "output_type": "execute_result"
    }
   ],
   "source": [
    "samples.loan_age.min()"
   ]
  },
  {
   "cell_type": "code",
   "execution_count": 198,
   "metadata": {},
   "outputs": [
    {
     "data": {
      "text/plain": [
       "/pools (Table(1328177,), shuffle, blosc(9)) 'Mortgage Pool Information'\n",
       "  description := {\n",
       "  \"as_of_date\": Time32Col(shape=(), dflt=0, pos=0),\n",
       "  \"cusip\": StringCol(itemsize=9, shape=(), dflt='', pos=1),\n",
       "  \"issue_type\": EnumCol(enum=Enum({'X': 0, 'C': 1, 'M': 2}), dflt='X', base=Int8Atom(shape=(), dflt=0), shape=(), pos=2),\n",
       "  \"issuer_id\": Int16Col(shape=(), dflt=0, pos=3),\n",
       "  \"pool_id\": StringCol(itemsize=6, shape=(), dflt='', pos=4),\n",
       "  \"pool_issue_date\": Time32Col(shape=(), dflt=0, pos=5),\n",
       "  \"pool_type\": StringCol(itemsize=3, shape=(), dflt='', pos=6)}\n",
       "  byteorder := 'little'\n",
       "  chunkshape := (2259,)"
      ]
     },
     "execution_count": 198,
     "metadata": {},
     "output_type": "execute_result"
    }
   ],
   "source": [
    "ll.pools_table"
   ]
  },
  {
   "cell_type": "markdown",
   "metadata": {},
   "source": [
    "### Extract origination date"
   ]
  },
  {
   "cell_type": "code",
   "execution_count": 205,
   "metadata": {},
   "outputs": [
    {
     "data": {
      "text/html": [
       "<div>\n",
       "<table border=\"1\" class=\"dataframe\">\n",
       "  <thead>\n",
       "    <tr style=\"text-align: right;\">\n",
       "      <th></th>\n",
       "      <th>dsn</th>\n",
       "      <th>as_of_date</th>\n",
       "      <th>loan_age</th>\n",
       "      <th>loan_origination_date</th>\n",
       "    </tr>\n",
       "  </thead>\n",
       "  <tbody>\n",
       "    <tr>\n",
       "      <th>0</th>\n",
       "      <td>1504796751</td>\n",
       "      <td>2015-10-01</td>\n",
       "      <td>1</td>\n",
       "      <td>2015-08-24</td>\n",
       "    </tr>\n",
       "    <tr>\n",
       "      <th>1</th>\n",
       "      <td>1503974816</td>\n",
       "      <td>2015-12-01</td>\n",
       "      <td>6</td>\n",
       "      <td>2015-05-05</td>\n",
       "    </tr>\n",
       "    <tr>\n",
       "      <th>2</th>\n",
       "      <td>1505809926</td>\n",
       "      <td>2016-07-01</td>\n",
       "      <td>3</td>\n",
       "      <td>2016-03-24</td>\n",
       "    </tr>\n",
       "    <tr>\n",
       "      <th>3</th>\n",
       "      <td>1503782198</td>\n",
       "      <td>2016-05-01</td>\n",
       "      <td>12</td>\n",
       "      <td>2015-04-30</td>\n",
       "    </tr>\n",
       "    <tr>\n",
       "      <th>4</th>\n",
       "      <td>1504757078</td>\n",
       "      <td>2016-04-01</td>\n",
       "      <td>6</td>\n",
       "      <td>2015-08-17</td>\n",
       "    </tr>\n",
       "  </tbody>\n",
       "</table>\n",
       "</div>"
      ],
      "text/plain": [
       "          dsn as_of_date  loan_age loan_origination_date\n",
       "0  1504796751 2015-10-01         1            2015-08-24\n",
       "1  1503974816 2015-12-01         6            2015-05-05\n",
       "2  1505809926 2016-07-01         3            2016-03-24\n",
       "3  1503782198 2016-05-01        12            2015-04-30\n",
       "4  1504757078 2016-04-01         6            2015-08-17"
      ]
     },
     "execution_count": 205,
     "metadata": {},
     "output_type": "execute_result"
    }
   ],
   "source": [
    "jim = samples.ix[~(samples.loan_origination_date.isnull()), \n",
    "                 ['loan_age', 'loan_origination_date']].reset_index()\n",
    "jim.head()"
   ]
  },
  {
   "cell_type": "code",
   "execution_count": 204,
   "metadata": {
    "collapsed": true
   },
   "outputs": [],
   "source": [
    "from pandas.tseries.offsets import MonthBegin"
   ]
  },
  {
   "cell_type": "code",
   "execution_count": 220,
   "metadata": {},
   "outputs": [
    {
     "data": {
      "text/plain": [
       "0     0\n",
       "1     0\n",
       "2     0\n",
       "3     0\n",
       "4    31\n",
       "dtype: int64"
      ]
     },
     "execution_count": 220,
     "metadata": {},
     "output_type": "execute_result"
    }
   ],
   "source": [
    "tim = pd.Series({i:(pd.Timestamp(v['as_of_date'])-MonthBegin(v['loan_age']+1) - \n",
    "        (v['loan_origination_date'] - MonthBegin())).days for i,v in jim.iterrows()})\n",
    "tim[:5]"
   ]
  },
  {
   "cell_type": "code",
   "execution_count": 221,
   "metadata": {},
   "outputs": [
    {
     "data": {
      "text/plain": [
       "<matplotlib.axes._subplots.AxesSubplot at 0x7f38a3157310>"
      ]
     },
     "execution_count": 221,
     "metadata": {},
     "output_type": "execute_result"
    },
    {
     "data": {
      "image/png": "[encoded data removed]",
      "text/plain": [
       "<matplotlib.figure.Figure at 0x7f38a2edb910>"
      ]
     },
     "metadata": {},
     "output_type": "display_data"
    }
   ],
   "source": [
    "pd.Series(tim).plot(kind='hist')"
   ]
  },
  {
   "cell_type": "code",
   "execution_count": 225,
   "metadata": {},
   "outputs": [
    {
     "data": {
      "text/plain": [
       "1243    8247\n",
       "dtype: int64"
      ]
     },
     "execution_count": 225,
     "metadata": {},
     "output_type": "execute_result"
    }
   ],
   "source": [
    "tim[(tim == max(tim))]"
   ]
  },
  {
   "cell_type": "code",
   "execution_count": 226,
   "metadata": {},
   "outputs": [
    {
     "data": {
      "text/plain": [
       "dsn                               1504742769\n",
       "as_of_date               2015-11-01 00:00:00\n",
       "loan_age                                   2\n",
       "loan_origination_date    1993-01-15 00:00:00\n",
       "Name: 1243, dtype: object"
      ]
     },
     "execution_count": 226,
     "metadata": {},
     "output_type": "execute_result"
    }
   ],
   "source": [
    "jim.ix[1243]"
   ]
  },
  {
   "cell_type": "code",
   "execution_count": 227,
   "metadata": {},
   "outputs": [
    {
     "data": {
      "text/plain": [
       "as_of_date                     NaT\n",
       "loan_origination_date   -8325 days\n",
       "Name: 1243, dtype: timedelta64[ns]"
      ]
     },
     "execution_count": 227,
     "metadata": {},
     "output_type": "execute_result"
    }
   ],
   "source": [
    "jim.ix[1243,['as_of_date', 'loan_origination_date']].diff()"
   ]
  },
  {
   "cell_type": "code",
   "execution_count": 228,
   "metadata": {},
   "outputs": [
    {
     "data": {
      "text/plain": [
       "277.5"
      ]
     },
     "execution_count": 228,
     "metadata": {},
     "output_type": "execute_result"
    }
   ],
   "source": [
    "8325/30."
   ]
  },
  {
   "cell_type": "code",
   "execution_count": 230,
   "metadata": {},
   "outputs": [
    {
     "data": {
      "text/html": [
       "<div>\n",
       "<table border=\"1\" class=\"dataframe\">\n",
       "  <thead>\n",
       "    <tr>\n",
       "      <th>dsn</th>\n",
       "      <th>1504742769</th>\n",
       "    </tr>\n",
       "    <tr>\n",
       "      <th>as_of_date</th>\n",
       "      <th>2015-11-01</th>\n",
       "    </tr>\n",
       "  </thead>\n",
       "  <tbody>\n",
       "    <tr>\n",
       "      <th>agency</th>\n",
       "      <td>F</td>\n",
       "    </tr>\n",
       "    <tr>\n",
       "      <th>annual_mip</th>\n",
       "      <td>0</td>\n",
       "    </tr>\n",
       "    <tr>\n",
       "      <th>buy_down_status</th>\n",
       "      <td>False</td>\n",
       "    </tr>\n",
       "    <tr>\n",
       "      <th>credit_score</th>\n",
       "      <td>NaN</td>\n",
       "    </tr>\n",
       "    <tr>\n",
       "      <th>current_month_liquidation</th>\n",
       "      <td>False</td>\n",
       "    </tr>\n",
       "    <tr>\n",
       "      <th>down_payment_assistance</th>\n",
       "      <td>True</td>\n",
       "    </tr>\n",
       "    <tr>\n",
       "      <th>first_payment_date</th>\n",
       "      <td>2015-10-01 00:00:00</td>\n",
       "    </tr>\n",
       "    <tr>\n",
       "      <th>first_time</th>\n",
       "      <td>False</td>\n",
       "    </tr>\n",
       "    <tr>\n",
       "      <th>issuer_id</th>\n",
       "      <td>1997</td>\n",
       "    </tr>\n",
       "    <tr>\n",
       "      <th>loan_age</th>\n",
       "      <td>2</td>\n",
       "    </tr>\n",
       "    <tr>\n",
       "      <th>loan_gross_margin</th>\n",
       "      <td>0</td>\n",
       "    </tr>\n",
       "    <tr>\n",
       "      <th>loan_interest_rate</th>\n",
       "      <td>3875</td>\n",
       "    </tr>\n",
       "    <tr>\n",
       "      <th>loan_origination_date</th>\n",
       "      <td>1993-01-15 00:00:00</td>\n",
       "    </tr>\n",
       "    <tr>\n",
       "      <th>loan_purpose</th>\n",
       "      <td>nonHAMPmod</td>\n",
       "    </tr>\n",
       "    <tr>\n",
       "      <th>ltv</th>\n",
       "      <td>9250</td>\n",
       "    </tr>\n",
       "    <tr>\n",
       "      <th>maturity_date</th>\n",
       "      <td>1909-07-26 16:31:44</td>\n",
       "    </tr>\n",
       "    <tr>\n",
       "      <th>months_delinquent</th>\n",
       "      <td>0</td>\n",
       "    </tr>\n",
       "    <tr>\n",
       "      <th>months_prepaid</th>\n",
       "      <td>2</td>\n",
       "    </tr>\n",
       "    <tr>\n",
       "      <th>number_of_borrowers</th>\n",
       "      <td>1</td>\n",
       "    </tr>\n",
       "    <tr>\n",
       "      <th>original_loan_term</th>\n",
       "      <td>360</td>\n",
       "    </tr>\n",
       "    <tr>\n",
       "      <th>original_principal_balance</th>\n",
       "      <td>4600000</td>\n",
       "    </tr>\n",
       "    <tr>\n",
       "      <th>origination_type</th>\n",
       "      <td>Retail</td>\n",
       "    </tr>\n",
       "    <tr>\n",
       "      <th>pool_id</th>\n",
       "      <td>MA3173</td>\n",
       "    </tr>\n",
       "    <tr>\n",
       "      <th>property_type</th>\n",
       "      <td>1</td>\n",
       "    </tr>\n",
       "    <tr>\n",
       "      <th>refinance_type</th>\n",
       "      <td>NaN</td>\n",
       "    </tr>\n",
       "    <tr>\n",
       "      <th>remaining_loan_term</th>\n",
       "      <td>358</td>\n",
       "    </tr>\n",
       "    <tr>\n",
       "      <th>removal_reason</th>\n",
       "      <td>NaN</td>\n",
       "    </tr>\n",
       "    <tr>\n",
       "      <th>seller_issuer_id</th>\n",
       "      <td>0</td>\n",
       "    </tr>\n",
       "    <tr>\n",
       "      <th>state</th>\n",
       "      <td>FL</td>\n",
       "    </tr>\n",
       "    <tr>\n",
       "      <th>total_debt_expense_ratio</th>\n",
       "      <td>NaN</td>\n",
       "    </tr>\n",
       "    <tr>\n",
       "      <th>upb</th>\n",
       "      <td>NaN</td>\n",
       "    </tr>\n",
       "    <tr>\n",
       "      <th>upb_at_issuance</th>\n",
       "      <td>4.6e+06</td>\n",
       "    </tr>\n",
       "    <tr>\n",
       "      <th>upfront_mip</th>\n",
       "      <td>0</td>\n",
       "    </tr>\n",
       "  </tbody>\n",
       "</table>\n",
       "</div>"
      ],
      "text/plain": [
       "dsn                                  1504742769\n",
       "as_of_date                           2015-11-01\n",
       "agency                                        F\n",
       "annual_mip                                    0\n",
       "buy_down_status                           False\n",
       "credit_score                                NaN\n",
       "current_month_liquidation                 False\n",
       "down_payment_assistance                    True\n",
       "first_payment_date          2015-10-01 00:00:00\n",
       "first_time                                False\n",
       "issuer_id                                  1997\n",
       "loan_age                                      2\n",
       "loan_gross_margin                             0\n",
       "loan_interest_rate                         3875\n",
       "loan_origination_date       1993-01-15 00:00:00\n",
       "loan_purpose                         nonHAMPmod\n",
       "ltv                                        9250\n",
       "maturity_date               1909-07-26 16:31:44\n",
       "months_delinquent                             0\n",
       "months_prepaid                                2\n",
       "number_of_borrowers                           1\n",
       "original_loan_term                          360\n",
       "original_principal_balance              4600000\n",
       "origination_type                         Retail\n",
       "pool_id                                  MA3173\n",
       "property_type                                 1\n",
       "refinance_type                              NaN\n",
       "remaining_loan_term                         358\n",
       "removal_reason                              NaN\n",
       "seller_issuer_id                              0\n",
       "state                                        FL\n",
       "total_debt_expense_ratio                    NaN\n",
       "upb                                         NaN\n",
       "upb_at_issuance                         4.6e+06\n",
       "upfront_mip                                   0"
      ]
     },
     "execution_count": 230,
     "metadata": {},
     "output_type": "execute_result"
    }
   ],
   "source": [
    "samples.ix[jim.ix[1243,['dsn','as_of_date']]].T"
   ]
  },
  {
   "cell_type": "markdown",
   "metadata": {},
   "source": [
    "Ah-hah. nonHAMPmod. Do all loans with origination_date have modifications?"
   ]
  },
  {
   "cell_type": "code",
   "execution_count": 231,
   "metadata": {},
   "outputs": [
    {
     "data": {
      "text/plain": [
       "Purchase      871\n",
       "Refinance     499\n",
       "HAMPmod        56\n",
       "nonHAMPmod     32\n",
       "Name: loan_purpose, dtype: int64"
      ]
     },
     "execution_count": 231,
     "metadata": {},
     "output_type": "execute_result"
    }
   ],
   "source": [
    "samples.ix[~(samples.loan_origination_date.isnull()), 'loan_purpose'].value_counts()"
   ]
  },
  {
   "cell_type": "markdown",
   "metadata": {},
   "source": [
    "Nope."
   ]
  },
  {
   "cell_type": "code",
   "execution_count": 232,
   "metadata": {},
   "outputs": [
    {
     "data": {
      "text/plain": [
       "3.875"
      ]
     },
     "execution_count": 232,
     "metadata": {},
     "output_type": "execute_result"
    }
   ],
   "source": [
    "1e-3*3875"
   ]
  },
  {
   "cell_type": "code",
   "execution_count": 233,
   "metadata": {
    "collapsed": true
   },
   "outputs": [],
   "source": [
    "dmr = pp.bloomberg_data.Mortgage_Rate_Data()"
   ]
  },
  {
   "cell_type": "code",
   "execution_count": 234,
   "metadata": {},
   "outputs": [
    {
     "data": {
      "text/plain": [
       "4.9800000000000004"
      ]
     },
     "execution_count": 234,
     "metadata": {},
     "output_type": "execute_result"
    }
   ],
   "source": [
    "dmr.get_rate_for_loan_age(0,pd.Timestamp(\"2010-01-01\"))"
   ]
  },
  {
   "cell_type": "code",
   "execution_count": 235,
   "metadata": {},
   "outputs": [
    {
     "data": {
      "text/plain": [
       "Index([u'agency', u'annual_mip', u'buy_down_status', u'credit_score',\n",
       "       u'current_month_liquidation', u'down_payment_assistance',\n",
       "       u'first_payment_date', u'first_time', u'issuer_id', u'loan_age',\n",
       "       u'loan_gross_margin', u'loan_interest_rate', u'loan_origination_date',\n",
       "       u'loan_purpose', u'ltv', u'maturity_date', u'months_delinquent',\n",
       "       u'months_prepaid', u'number_of_borrowers', u'original_loan_term',\n",
       "       u'original_principal_balance', u'origination_type', u'pool_id',\n",
       "       u'property_type', u'refinance_type', u'remaining_loan_term',\n",
       "       u'removal_reason', u'seller_issuer_id', u'state',\n",
       "       u'total_debt_expense_ratio', u'upb', u'upb_at_issuance',\n",
       "       u'upfront_mip'],\n",
       "      dtype='object')"
      ]
     },
     "execution_count": 235,
     "metadata": {},
     "output_type": "execute_result"
    }
   ],
   "source": [
    "samples.columns"
   ]
  },
  {
   "cell_type": "code",
   "execution_count": 237,
   "metadata": {},
   "outputs": [
    {
     "data": {
      "text/plain": [
       "True"
      ]
     },
     "execution_count": 237,
     "metadata": {},
     "output_type": "execute_result"
    }
   ],
   "source": [
    "isinstance(ll.loans_table[50]['as_of_date'], np.int32)"
   ]
  },
  {
   "cell_type": "code",
   "execution_count": 238,
   "metadata": {},
   "outputs": [
    {
     "data": {
      "text/plain": [
       "(0, 1350, 1420088400, 0, 731, 0, 0, 1500161863, 1372651200, 0, 3355, 19, 0, 3250.0, 18000, 1, 9650, -1978223296, 0, 1, 1, 360, 16100000, 2, 'MA1089', 1, 0, 337, 0, 0, 'IN', 1752, 15451339, 16100000, 1750)"
      ]
     },
     "execution_count": 238,
     "metadata": {},
     "output_type": "execute_result"
    }
   ],
   "source": [
    "jim = ll.loans_table[97878316]\n",
    "jim"
   ]
  },
  {
   "cell_type": "code",
   "execution_count": 243,
   "metadata": {},
   "outputs": [
    {
     "data": {
      "text/plain": [
       "Timestamp('2015-01-01 00:00:00')"
      ]
     },
     "execution_count": 243,
     "metadata": {},
     "output_type": "execute_result"
    }
   ],
   "source": [
    "pd.Timestamp.fromtimestamp(jim['as_of_date'])"
   ]
  },
  {
   "cell_type": "code",
   "execution_count": 244,
   "metadata": {},
   "outputs": [
    {
     "data": {
      "text/plain": [
       "Timestamp('2013-07-01 00:00:00')"
      ]
     },
     "execution_count": 244,
     "metadata": {},
     "output_type": "execute_result"
    }
   ],
   "source": [
    "pd.Timestamp.fromtimestamp(jim['first_payment_date'])"
   ]
  },
  {
   "cell_type": "code",
   "execution_count": 242,
   "metadata": {},
   "outputs": [
    {
     "data": {
      "text/plain": [
       "1420088400"
      ]
     },
     "execution_count": 242,
     "metadata": {},
     "output_type": "execute_result"
    }
   ],
   "source": [
    "jim['as_of_date']"
   ]
  },
  {
   "cell_type": "code",
   "execution_count": 246,
   "metadata": {},
   "outputs": [
    {
     "name": "stdout",
     "output_type": "stream",
     "text": [
      "<class 'pandas.core.frame.DataFrame'>\n",
      "MultiIndex: 10000 entries, (1500179385, 2014-05-01 00:00:00) to (1501970839, 2015-03-01 00:00:00)\n",
      "Data columns (total 33 columns):\n",
      "agency                        10000 non-null object\n",
      "annual_mip                    10000 non-null int32\n",
      "buy_down_status               10000 non-null bool\n",
      "credit_score                  8167 non-null float64\n",
      "current_month_liquidation     10000 non-null bool\n",
      "down_payment_assistance       10000 non-null bool\n",
      "first_payment_date            10000 non-null datetime64[ns]\n",
      "first_time                    10000 non-null bool\n",
      "issuer_id                     10000 non-null int16\n",
      "loan_age                      10000 non-null int16\n",
      "loan_gross_margin             10000 non-null int32\n",
      "loan_interest_rate            10000 non-null float64\n",
      "loan_origination_date         1458 non-null datetime64[ns]\n",
      "loan_purpose                  9704 non-null object\n",
      "ltv                           8949 non-null float64\n",
      "maturity_date                 10000 non-null datetime64[ns]\n",
      "months_delinquent             10000 non-null int8\n",
      "months_prepaid                10000 non-null int8\n",
      "number_of_borrowers           10000 non-null int8\n",
      "original_loan_term            9868 non-null float64\n",
      "original_principal_balance    10000 non-null int32\n",
      "origination_type              4936 non-null object\n",
      "pool_id                       10000 non-null object\n",
      "property_type                 9655 non-null float64\n",
      "refinance_type                2196 non-null object\n",
      "remaining_loan_term           10000 non-null int16\n",
      "removal_reason                128 non-null object\n",
      "seller_issuer_id              10000 non-null int16\n",
      "state                         10000 non-null object\n",
      "total_debt_expense_ratio      4373 non-null float64\n",
      "upb                           8647 non-null float64\n",
      "upb_at_issuance               9052 non-null float64\n",
      "upfront_mip                   10000 non-null int32\n",
      "dtypes: bool(4), datetime64[ns](3), float64(8), int16(4), int32(4), int8(3), object(7)\n",
      "memory usage: 1.8+ MB\n"
     ]
    }
   ],
   "source": [
    "samples.info()"
   ]
  },
  {
   "cell_type": "code",
   "execution_count": null,
   "metadata": {
    "collapsed": true
   },
   "outputs": [],
   "source": []
  }
 ],
 "metadata": {
  "kernelspec": {
   "display_name": "Python 2",
   "language": "python",
   "name": "python2"
  },
  "language_info": {
   "codemirror_mode": {
    "name": "ipython",
    "version": 2
   },
   "file_extension": ".py",
   "mimetype": "text/x-python",
   "name": "python",
   "nbconvert_exporter": "python",
   "pygments_lexer": "ipython2",
   "version": "2.7.6"
  }
 },
 "nbformat": 4,
 "nbformat_minor": 1
}
