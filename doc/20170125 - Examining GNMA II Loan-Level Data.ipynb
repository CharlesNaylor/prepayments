{
 "cells": [
  {
   "cell_type": "markdown",
   "metadata": {},
   "source": [
    "# Examining GNMA II Loan-Level Data\n",
    "\n",
    "Now that it's all in one big H5 file.\n",
    "\n",
    "3. How hard will it be to examine all data for a given loan?\n",
    "1. What are the extant MTA codes? Do we have all of them?\n",
    "2. Are there records of loans that have refinanced in the past?\n",
    "4. What do the distributions of the relevant factors look like?"
   ]
  },
  {
   "cell_type": "code",
   "execution_count": 53,
   "metadata": {
    "collapsed": false
   },
   "outputs": [],
   "source": [
    "import tables\n",
    "import pandas as pd\n",
    "import ggplot\n",
    "import numpy as np\n",
    "path = \"/data/prepayments/GNM_II_loanlevel.h5\""
   ]
  },
  {
   "cell_type": "code",
   "execution_count": 28,
   "metadata": {
    "collapsed": false
   },
   "outputs": [
    {
     "name": "stdout",
     "output_type": "stream",
     "text": [
      "Populating the interactive namespace from numpy and matplotlib\n"
     ]
    },
    {
     "name": "stderr",
     "output_type": "stream",
     "text": [
      "/usr/local/lib/python2.7/dist-packages/IPython/core/magics/pylab.py:161: UserWarning: pylab import has clobbered these variables: ['record']\n",
      "`%matplotlib` prevents importing * from pylab and numpy\n",
      "  \"\\n`%matplotlib` prevents importing * from pylab and numpy\"\n"
     ]
    }
   ],
   "source": [
    "%pylab inline"
   ]
  },
  {
   "cell_type": "code",
   "execution_count": 35,
   "metadata": {
    "collapsed": true
   },
   "outputs": [],
   "source": [
    "h5file.close()"
   ]
  },
  {
   "cell_type": "code",
   "execution_count": 41,
   "metadata": {
    "collapsed": true
   },
   "outputs": [],
   "source": [
    "h5file = tables.open_file(path,\"r\")"
   ]
  },
  {
   "cell_type": "code",
   "execution_count": 42,
   "metadata": {
    "collapsed": false
   },
   "outputs": [
    {
     "data": {
      "text/plain": [
       "(0, 550, 1383278400, 0, 679, 0, 0, 1013908161, 1288584000, 1, 3355, 37, 0, 4250.0, 18000, 1, 9650, -2062290496, 0, 0, 1, 360, 29800000, 0, '004833', 1, 0, 322, 0, 0, 'OR', 0, 28190523, 29800000, 2250)"
      ]
     },
     "execution_count": 42,
     "metadata": {},
     "output_type": "execute_result"
    }
   ],
   "source": [
    "h5file.root.loans[-1]"
   ]
  },
  {
   "cell_type": "code",
   "execution_count": 5,
   "metadata": {
    "collapsed": false
   },
   "outputs": [
    {
     "name": "stdout",
     "output_type": "stream",
     "text": [
      "agency  annual_mip  as_of_date  buy_down_status  credit_score  current_month_liquidation  down_payment_assistance  dsn  first_payment_date  first_time  issuer_id  loan_age  loan_gross_margin  loan_interest_rate  loan_origination_date  loan_purpose  ltv  maturity_date  months_delinquent  months_prepaid  number_of_borrowers  original_loan_term  original_principal_balance  origination_type  pool_id  property_type  refinance_type  remaining_loan_term  removal_reason  seller_issuer_id  state  total_debt_expense_ratio  upb  upb_at_issuance  upfront_mip\n"
     ]
    }
   ],
   "source": [
    "print \"  \".join(sorted(h5file.root.loans.coldescrs.keys()))"
   ]
  },
  {
   "cell_type": "markdown",
   "metadata": {},
   "source": [
    "# 1. How hard to gather per-loan data?"
   ]
  },
  {
   "cell_type": "code",
   "execution_count": 12,
   "metadata": {
    "collapsed": false
   },
   "outputs": [
    {
     "data": {
      "text/plain": [
       "1507407588"
      ]
     },
     "execution_count": 12,
     "metadata": {},
     "output_type": "execute_result"
    }
   ],
   "source": [
    "h5file.root.loans[-1]['dsn']"
   ]
  },
  {
   "cell_type": "code",
   "execution_count": 13,
   "metadata": {
    "collapsed": false
   },
   "outputs": [
    {
     "data": {
      "text/plain": [
       "1023208624"
      ]
     },
     "execution_count": 13,
     "metadata": {},
     "output_type": "execute_result"
    }
   ],
   "source": [
    "h5file.root.loans[0]['dsn']"
   ]
  },
  {
   "cell_type": "code",
   "execution_count": 14,
   "metadata": {
    "collapsed": true
   },
   "outputs": [],
   "source": [
    "import datetime"
   ]
  },
  {
   "cell_type": "code",
   "execution_count": 30,
   "metadata": {
    "collapsed": false,
    "scrolled": true
   },
   "outputs": [
    {
     "name": "stdout",
     "output_type": "stream",
     "text": [
      "0\t2013-10\t9566\t0\t257\n"
     ]
    }
   ],
   "source": [
    "for i,record in enumerate(h5file.root.loans.where('dsn == 1023208624')):\n",
    "    print \"\\t\".join([str(i), \n",
    "                     '{:%Y-%m}'.format(datetime.datetime.fromtimestamp(record['as_of_date'])),\n",
    "                     str(record['ltv']), str(record['removal_reason']), str(record['loan_age'])])"
   ]
  },
  {
   "cell_type": "markdown",
   "metadata": {},
   "source": [
    "Loan origination date not useful. \n",
    "\n",
    "Even with an index, it's still pretty slow to retrieve.\n",
    "\n",
    "# 2. How do the Metropolitan Statistical Areas shake out?\n",
    "\n",
    "A. There aren't any."
   ]
  },
  {
   "cell_type": "code",
   "execution_count": 46,
   "metadata": {
    "collapsed": false
   },
   "outputs": [
    {
     "data": {
      "text/plain": [
       "(7169903,)"
      ]
     },
     "execution_count": 46,
     "metadata": {},
     "output_type": "execute_result"
    }
   ],
   "source": [
    "h5file.root.loans.shape"
   ]
  },
  {
   "cell_type": "markdown",
   "metadata": {},
   "source": [
    "274 million loan records."
   ]
  },
  {
   "cell_type": "code",
   "execution_count": 17,
   "metadata": {
    "collapsed": true
   },
   "outputs": [],
   "source": [
    "random_samples = np.random.choice(h5file.root.loans.shape[0],10000)"
   ]
  },
  {
   "cell_type": "code",
   "execution_count": 18,
   "metadata": {
    "collapsed": false
   },
   "outputs": [
    {
     "data": {
      "text/plain": [
       "array([238363026, 239711183, 206973215,  16056807, 128508040,   7554948,\n",
       "       211847000,  84285540,  38631633, 166621288])"
      ]
     },
     "execution_count": 18,
     "metadata": {},
     "output_type": "execute_result"
    }
   ],
   "source": [
    "random_samples[:10]"
   ]
  },
  {
   "cell_type": "markdown",
   "metadata": {},
   "source": [
    "MSAs weren't actually in the data. Should I backfill the states with MSA data? Or is there other data?"
   ]
  },
  {
   "cell_type": "markdown",
   "metadata": {},
   "source": [
    "# 3. What does a prepaid loan look like?"
   ]
  },
  {
   "cell_type": "code",
   "execution_count": 20,
   "metadata": {
    "collapsed": true
   },
   "outputs": [],
   "source": [
    "def dt_to_string(x):\n",
    "    return '{:%Y-%m}'.format(datetime.datetime.fromtimestamp(x))"
   ]
  },
  {
   "cell_type": "code",
   "execution_count": 22,
   "metadata": {
    "collapsed": false
   },
   "outputs": [
    {
     "data": {
      "text/plain": [
       "1412136000.0"
      ]
     },
     "execution_count": 22,
     "metadata": {},
     "output_type": "execute_result"
    }
   ],
   "source": [
    "import time\n",
    "last_month = time.mktime(datetime.date(2014,10,1).timetuple())\n",
    "last_month"
   ]
  },
  {
   "cell_type": "code",
   "execution_count": 45,
   "metadata": {
    "collapsed": false
   },
   "outputs": [],
   "source": [
    "for i,record in enumerate(h5file.root.loans.where(\"(current_month_liquidation == 0) \" +\n",
    "                                                  \"& (as_of_date > {})\".format(last_month))):\n",
    "    if i == 1:\n",
    "        print \"\\t\".join([str(record[x]) for x in ['dsn','loan_age']]+[dt_to_string(record['as_of_date'])])\n",
    "        break"
   ]
  },
  {
   "cell_type": "markdown",
   "metadata": {},
   "source": [
    "What does a negative loan age number mean?"
   ]
  },
  {
   "cell_type": "code",
   "execution_count": 43,
   "metadata": {
    "collapsed": false
   },
   "outputs": [],
   "source": [
    "for i,record in enumerate(h5file.root.loans.where('loan_age < 0')):# & (as_of_date < {})'.format(last_month))):\n",
    "    if i < 10:\n",
    "        print \"\\t\".join([str(i), \n",
    "                     '{:%Y-%m}'.format(datetime.datetime.fromtimestamp(record['as_of_date'])),\n",
    "                     str(record['as_of_date']),str(record['ltv']),\n",
    "                     str(record['current_month_liquidation']), str(record['loan_age'])])\n",
    "    else:\n",
    "        break"
   ]
  },
  {
   "cell_type": "markdown",
   "metadata": {},
   "source": [
    "Prepaid loans do *not* stick around in the dataset. So we have a pretty limited universe of prepaid loans, time-wise, unless I can find some data from before 2013-10."
   ]
  },
  {
   "cell_type": "code",
   "execution_count": 47,
   "metadata": {
    "collapsed": false
   },
   "outputs": [
    {
     "name": "stdout",
     "output_type": "stream",
     "text": [
      "/loans.row (Row), pointing to row #2535\n"
     ]
    }
   ],
   "source": [
    "for x in h5file.root.loans.where('(dsn == 1023494824)'):\n",
    "    print x\n",
    "    break"
   ]
  },
  {
   "cell_type": "code",
   "execution_count": 50,
   "metadata": {
    "collapsed": false
   },
   "outputs": [
    {
     "data": {
      "text/plain": [
       "[('agency', 0),\n",
       " ('annual_mip', 500),\n",
       " ('as_of_date', 1380600000),\n",
       " ('buy_down_status', 0),\n",
       " ('credit_score', 0),\n",
       " ('current_month_liquidation', 0),\n",
       " ('down_payment_assistance', 0),\n",
       " ('dsn', 1023494824),\n",
       " ('first_payment_date', 786258000),\n",
       " ('first_time', 0),\n",
       " ('issuer_id', 3355),\n",
       " ('loan_age', 227),\n",
       " ('loan_gross_margin', 0),\n",
       " ('loan_interest_rate', 8500.0),\n",
       " ('loan_origination_date', 18000),\n",
       " ('loan_purpose', 1),\n",
       " ('ltv', 9677),\n",
       " ('maturity_date', 1730433600),\n",
       " ('months_delinquent', 0),\n",
       " ('months_prepaid', 0),\n",
       " ('number_of_borrowers', 1),\n",
       " ('original_loan_term', 360),\n",
       " ('original_principal_balance', 4700000),\n",
       " ('origination_type', 0),\n",
       " ('pool_id', '001901'),\n",
       " ('property_type', 1),\n",
       " ('refinance_type', 0),\n",
       " ('remaining_loan_term', 133),\n",
       " ('removal_reason', 0),\n",
       " ('seller_issuer_id', 0),\n",
       " ('state', 'TX'),\n",
       " ('total_debt_expense_ratio', 0),\n",
       " ('upb', 3136686),\n",
       " ('upb_at_issuance', 0),\n",
       " ('upfront_mip', 2250)]"
      ]
     },
     "execution_count": 50,
     "metadata": {},
     "output_type": "execute_result"
    }
   ],
   "source": [
    "zip(h5file.root.loans.colnames,h5file.root.loans[2535])"
   ]
  },
  {
   "cell_type": "markdown",
   "metadata": {},
   "source": [
    "# What's blank?\n",
    "\n",
    "Things to check:\n",
    "* msa\n",
    "* ~~loan origination date~~\n",
    "* ~~upb as issuance~~\n",
    "* ~~Loan gross margin (?) ARM only~~\n",
    "* Combined LTV\n",
    "* ~~Total debt expense ratio percent~~\n",
    "* ~~First Time home buyer~~\n",
    "* ~~3rd party origination type~~\n",
    "* ~~removal reason~~"
   ]
  },
  {
   "cell_type": "code",
   "execution_count": 33,
   "metadata": {
    "collapsed": true
   },
   "outputs": [
    {
     "name": "stdout",
     "output_type": "stream",
     "text": [
      "0\t2015-04\t2015-03\t1426737600\t-77\t1\t0\n",
      "1\t2015-04\t2015-03\t1426824000\t16\t1\t0\n",
      "2\t2015-04\t2015-03\t1425873600\t94\t1\t0\n",
      "3\t2015-04\t2015-03\t1426305600\t-50\t1\t0\n",
      "4\t2015-04\t2015-03\t1425704400\t-113\t1\t0\n",
      "5\t2015-04\t2015-03\t1427688000\t-79\t1\t0\n",
      "6\t2015-04\t2015-03\t1426651200\t16\t1\t0\n",
      "7\t2015-04\t2015-03\t1425618000\t16\t1\t0\n",
      "8\t2015-04\t2015-03\t1426219200\t16\t1\t0\n",
      "9\t2015-04\t2015-03\t1427428800\t-25\t1\t0\n",
      "10\t2015-04\t2015-03\t1426219200\t-72\t1\t0\n",
      "11\t2015-04\t2015-03\t1426564800\t-106\t1\t0\n",
      "12\t2015-04\t2015-03\t1426219200\t16\t1\t0\n",
      "13\t2015-04\t2015-03\t1426651200\t-12\t1\t0\n",
      "14\t2015-04\t2015-03\t1427515200\t-97\t1\t0\n",
      "15\t2015-04\t2015-03\t1427774400\t-30\t1\t0\n",
      "16\t2015-04\t2015-03\t1426478400\t-92\t1\t0\n",
      "17\t2015-04\t2015-03\t1426046400\t-6\t1\t0\n",
      "18\t2015-04\t2015-03\t1426305600\t98\t1\t0\n",
      "19\t2015-04\t2015-03\t1426046400\t-117\t1\t0\n",
      "20\t2015-04\t2015-03\t1427428800\t17\t1\t0\n",
      "21\t2015-04\t2015-03\t1426651200\t16\t1\t0\n",
      "22\t2015-04\t2015-03\t1427774400\t0\t1\t0\n",
      "23\t2015-04\t2015-03\t1425704400\t-78\t1\t0\n",
      "24\t2015-04\t2015-03\t1427515200\t105\t1\t0\n",
      "25\t2015-04\t2015-03\t1426478400\t16\t1\t0\n",
      "26\t2015-04\t2015-03\t1425618000\t11\t1\t0\n",
      "27\t2015-04\t2015-03\t1426305600\t-45\t1\t0\n",
      "28\t2015-04\t2015-03\t1427688000\t-78\t1\t0\n",
      "29\t2015-04\t2015-03\t1427428800\t-93\t1\t0\n",
      "30\t2015-04\t2015-03\t1425960000\t16\t1\t0\n",
      "31\t2015-04\t2015-03\t1427428800\t-78\t1\t0\n",
      "32\t2015-04\t2015-03\t1425960000\t112\t1\t0\n",
      "33\t2015-04\t2015-03\t1427774400\t118\t1\t0\n",
      "34\t2015-04\t2015-03\t1427774400\t64\t1\t0\n",
      "35\t2015-04\t2015-03\t1425704400\t0\t1\t0\n",
      "36\t2015-04\t2015-03\t1427256000\t-4\t1\t0\n",
      "37\t2015-04\t2015-03\t1427774400\t-78\t1\t0\n",
      "38\t2015-04\t2015-03\t1425960000\t-78\t1\t0\n",
      "39\t2015-04\t2015-03\t1427169600\t-106\t1\t0\n",
      "40\t2015-04\t2015-03\t1427428800\t-79\t1\t0\n"
     ]
    }
   ],
   "source": [
    "for i, record in enumerate(h5file.root.loans.where('loan_origination_date > 18000')):\n",
    "    if i > 40:\n",
    "        break\n",
    "    else:\n",
    "        print \"\\t\".join([str(i), \n",
    "                     '{:%Y-%m}'.format(datetime.datetime.fromtimestamp(record['as_of_date'])),\n",
    "                     '{:%Y-%m}'.format(datetime.datetime.fromtimestamp(record['loan_origination_date'])),\n",
    "                     str(record['loan_origination_date']),\n",
    "                     str(record['ltv']),\n",
    "                     str(record['current_month_liquidation']), str(record['loan_age'])])"
   ]
  },
  {
   "cell_type": "markdown",
   "metadata": {},
   "source": [
    "Loan origination date does have data after 2015."
   ]
  },
  {
   "cell_type": "code",
   "execution_count": 39,
   "metadata": {
    "collapsed": true
   },
   "outputs": [],
   "source": [
    "def check_data(x, condition=\"{} > 0\"):\n",
    "    for i, record in enumerate(h5file.root.loans.where(condition.format(x))):\n",
    "        if i > 5:\n",
    "            break\n",
    "        else:\n",
    "            print \"\\t\".join([str(i), \n",
    "                         '{:%Y-%m}'.format(datetime.datetime.fromtimestamp(record['as_of_date'])),\n",
    "                         str(record['dsn']),\n",
    "                         str(record[x]),\n",
    "                         str(record['ltv']),\n",
    "                         str(record['current_month_liquidation']), str(record['loan_age'])])"
   ]
  },
  {
   "cell_type": "code",
   "execution_count": 40,
   "metadata": {
    "collapsed": false,
    "scrolled": true
   },
   "outputs": [
    {
     "name": "stdout",
     "output_type": "stream",
     "text": [
      "0\t2013-10\t1014996591\t20400000\t8\t1\t53\n",
      "1\t2013-10\t1015000553\t13100000\t-28\t1\t53\n",
      "2\t2013-10\t1015024906\t11000000\t117\t1\t53\n",
      "3\t2013-10\t1015173086\t21900000\t-21\t1\t53\n",
      "4\t2013-10\t1015350193\t5100000\t101\t1\t54\n",
      "5\t2013-10\t1015354318\t7600000\t46\t1\t53\n"
     ]
    }
   ],
   "source": [
    "check_data('upb_at_issuance')\n"
   ]
  },
  {
   "cell_type": "code",
   "execution_count": 41,
   "metadata": {
    "collapsed": false
   },
   "outputs": [
    {
     "name": "stdout",
     "output_type": "stream",
     "text": [
      "0\t2013-10\t1010393116\t2250\t0\t1\t27\n",
      "1\t2013-10\t1010401690\t2250\t0\t0\t0\n",
      "2\t2013-10\t1010408228\t2250\t0\t1\t27\n",
      "3\t2013-10\t1010410434\t2000\t40\t1\t27\n",
      "4\t2013-10\t1010411999\t2250\t-78\t1\t27\n",
      "5\t2013-10\t1010414466\t2000\t-79\t1\t27\n"
     ]
    }
   ],
   "source": [
    "check_data('loan_gross_margin')"
   ]
  },
  {
   "cell_type": "markdown",
   "metadata": {},
   "source": [
    "You can have ARMs in GNM II loans!!"
   ]
  },
  {
   "cell_type": "code",
   "execution_count": 42,
   "metadata": {
    "collapsed": true
   },
   "outputs": [],
   "source": [
    "check_data('combined_ltv')"
   ]
  },
  {
   "cell_type": "code",
   "execution_count": 43,
   "metadata": {
    "collapsed": false
   },
   "outputs": [
    {
     "name": "stdout",
     "output_type": "stream",
     "text": [
      "0\t2013-10\t1500603755\t48\t28\t1\t85\n",
      "1\t2013-10\t1500603756\t4\t-28\t1\t84\n",
      "2\t2013-10\t1500603761\t28\t28\t1\t79\n",
      "3\t2013-10\t1500603763\t48\t-11\t1\t77\n",
      "4\t2013-10\t1500603764\t92\t46\t1\t76\n",
      "5\t2013-10\t1500607617\t36\t-29\t0\t0\n"
     ]
    }
   ],
   "source": [
    "check_data('total_debt_expense_ratio')"
   ]
  },
  {
   "cell_type": "code",
   "execution_count": 44,
   "metadata": {
    "collapsed": false
   },
   "outputs": [
    {
     "name": "stdout",
     "output_type": "stream",
     "text": [
      "0\t2013-10\t1023358115\t1\t0\t1\t-66\n",
      "1\t2013-10\t1023181306\t1\t0\t1\t0\n",
      "2\t2013-10\t1022642554\t1\t0\t1\t-78\n",
      "3\t2013-10\t1022759447\t1\t0\t1\t-79\n",
      "4\t2013-10\t1023377002\t1\t74\t1\t-82\n",
      "5\t2013-10\t1022797607\t1\t87\t1\t-106\n"
     ]
    }
   ],
   "source": [
    "check_data('first_time')"
   ]
  },
  {
   "cell_type": "code",
   "execution_count": 45,
   "metadata": {
    "collapsed": false
   },
   "outputs": [
    {
     "name": "stdout",
     "output_type": "stream",
     "text": [
      "0\t2013-10\t1023586727\t2\t-22\t1\t33\n",
      "1\t2013-10\t1500603755\t2\t28\t1\t85\n",
      "2\t2013-10\t1500603756\t2\t-28\t1\t84\n",
      "3\t2013-10\t1500603757\t2\t38\t1\t83\n",
      "4\t2013-10\t1500603758\t2\t-30\t0\t0\n",
      "5\t2013-10\t1500603759\t2\t11\t0\t0\n"
     ]
    }
   ],
   "source": [
    "check_data('origination_type')"
   ]
  },
  {
   "cell_type": "code",
   "execution_count": 46,
   "metadata": {
    "collapsed": false
   },
   "outputs": [
    {
     "name": "stdout",
     "output_type": "stream",
     "text": [
      "0\t2013-10\t1023598348\t1\t16\t0\t0\n",
      "1\t2013-10\t1023596926\t1\t28\t0\t0\n",
      "2\t2013-10\t1023595628\t1\t-112\t0\t0\n",
      "3\t2013-10\t1023595629\t1\t-16\t0\t0\n",
      "4\t2013-10\t1023596338\t1\t16\t0\t0\n",
      "5\t2013-10\t1023597087\t1\t-16\t0\t0\n"
     ]
    }
   ],
   "source": [
    "check_data('removal_reason')"
   ]
  },
  {
   "cell_type": "markdown",
   "metadata": {},
   "source": [
    "So not that much. nearly everything is used."
   ]
  },
  {
   "cell_type": "code",
   "execution_count": null,
   "metadata": {
    "collapsed": true
   },
   "outputs": [],
   "source": []
  }
 ],
 "metadata": {
  "kernelspec": {
   "display_name": "Python 2",
   "language": "python",
   "name": "python2"
  },
  "language_info": {
   "codemirror_mode": {
    "name": "ipython",
    "version": 2
   },
   "file_extension": ".py",
   "mimetype": "text/x-python",
   "name": "python",
   "nbconvert_exporter": "python",
   "pygments_lexer": "ipython2",
   "version": "2.7.6"
  }
 },
 "nbformat": 4,
 "nbformat_minor": 1
}
