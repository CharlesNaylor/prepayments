{
 "cells": [
  {
   "cell_type": "markdown",
   "metadata": {},
   "source": [
    "# CPR\n",
    "\n",
    "I need a definitive solution to determining CPR. \n",
    "\n",
    "Options:\n",
    "    * BBG has CPR for some mortgage pools\n",
    "    * UPB of paid off loans / original balance\n",
    "    * UPB vs. predicted UPB based on WAC and prior-month UPB\n",
    "    * Something from loan-level data\n",
    "\n",
    "First thing I should do is see if I can't match BBG CPR with UPB data or other pool-level data.\n",
    "\n",
    "\n",
    "Popova <a href=http://projecteuclid.org/download/pdf_1/euclid.ba/1340370553>states</a> that the scheduled monthly payment is defined as follows:"
   ]
  },
  {
   "cell_type": "code",
   "execution_count": 1,
   "metadata": {
    "collapsed": false
   },
   "outputs": [],
   "source": [
    "import os\n",
    "os.chdir(\"/home/charles/src/LondonMirror/Prepayments/\")\n",
    "import prepayments as pp\n",
    "import pandas as pd\n",
    "import numpy as np\n",
    "import datetime"
   ]
  },
  {
   "cell_type": "code",
   "execution_count": 2,
   "metadata": {
    "collapsed": false
   },
   "outputs": [
    {
     "name": "stderr",
     "output_type": "stream",
     "text": [
      "/usr/local/lib/python2.7/dist-packages/matplotlib/font_manager.py:273: UserWarning: Matplotlib is building the font cache using fc-list. This may take a moment.\n",
      "  warnings.warn('Matplotlib is building the font cache using fc-list. This may take a moment.')\n"
     ]
    }
   ],
   "source": [
    "import ggplot as gg"
   ]
  },
  {
   "cell_type": "code",
   "execution_count": 3,
   "metadata": {
    "collapsed": false
   },
   "outputs": [
    {
     "name": "stdout",
     "output_type": "stream",
     "text": [
      "Populating the interactive namespace from numpy and matplotlib\n"
     ]
    }
   ],
   "source": [
    "%pylab inline"
   ]
  },
  {
   "cell_type": "code",
   "execution_count": 4,
   "metadata": {
    "collapsed": true
   },
   "outputs": [],
   "source": [
    "gnm_pool = pp.gnm_data.GNM_Pool()"
   ]
  },
  {
   "cell_type": "code",
   "execution_count": 5,
   "metadata": {
    "collapsed": false
   },
   "outputs": [
    {
     "data": {
      "text/plain": [
       "(4496650, 1333252800, '36209AR69', 1, 4064, 2609494, 5156400, 999, 96, 99999, 99999, 170, 360, 168, 0, 0, 0, 18000, 'Wells Fargo Bank, Na,                   ', 3355, 0, 0, 0, 0, 0, 0, 0, 5156400, 999, 96, 99999, 99999, 170, 360, 168, 5156400, 999, 96, 99999, 99999, 170, 360, 168, 3836900, 999, 92, 99999, 99999, 170, 360, 145, 0, 0, 0, 2, 1, 5936, 3811894, 495481200, 18000, 0, 886309200, 1834203600, '465909', 'SF', 0, 0, 0, 0, 2, 10000, 6421388, 0, 0, 0, 7500, 9999, 5156400, 999, 96, 99999, 99999, 170, 360, 168, 8000, 99999, 170, 360, 158, 999, 0, 94)"
      ]
     },
     "execution_count": 5,
     "metadata": {},
     "output_type": "execute_result"
    }
   ],
   "source": [
    "gnm_pool.pools_table[600000]"
   ]
  },
  {
   "cell_type": "code",
   "execution_count": 6,
   "metadata": {
    "collapsed": true
   },
   "outputs": [],
   "source": [
    "bbg = pp.Bloomberg()"
   ]
  },
  {
   "cell_type": "code",
   "execution_count": 7,
   "metadata": {
    "collapsed": true
   },
   "outputs": [],
   "source": [
    "cusip = gnm_pool.pools_table[600000][\"cusip\"]"
   ]
  },
  {
   "cell_type": "code",
   "execution_count": 8,
   "metadata": {
    "collapsed": false
   },
   "outputs": [
    {
     "data": {
      "text/plain": [
       "<matplotlib.axes._subplots.AxesSubplot at 0x7fe571b9d390>"
      ]
     },
     "execution_count": 8,
     "metadata": {},
     "output_type": "execute_result"
    },
    {
     "data": {
      "image/png": "[encoded data removed]",
      "text/plain": [
       "<matplotlib.figure.Figure at 0x7fe5922d05d0>"
      ]
     },
     "metadata": {},
     "output_type": "display_data"
    }
   ],
   "source": [
    "cpr_bbg = bbg.get_cpr(\"36209AR69\")\n",
    "cpr_bbg.plot()"
   ]
  },
  {
   "cell_type": "code",
   "execution_count": 9,
   "metadata": {
    "collapsed": false
   },
   "outputs": [
    {
     "data": {
      "text/plain": [
       "(59,)"
      ]
     },
     "execution_count": 9,
     "metadata": {},
     "output_type": "execute_result"
    }
   ],
   "source": [
    "p_data = gnm_pool.pools_table.read_where(\"cusip == '36209AR69'\")\n",
    "p_data.shape"
   ]
  },
  {
   "cell_type": "code",
   "execution_count": 10,
   "metadata": {
    "collapsed": false,
    "scrolled": true
   },
   "outputs": [
    {
     "name": "stdout",
     "output_type": "stream",
     "text": [
      "<class 'pandas.core.frame.DataFrame'>\n",
      "Index: 59 entries, 2012-02-01 to 2016-12-01\n",
      "Data columns (total 93 columns):\n",
      "aols                                          59 non-null int64\n",
      "as_of_date                                    59 non-null int32\n",
      "cusip                                         59 non-null object\n",
      "few_units_number_of_loans                     59 non-null int32\n",
      "few_units_pct_of_upb                          59 non-null int32\n",
      "few_units_upb                                 59 non-null int64\n",
      "first_quartile_aols_q1                        59 non-null int64\n",
      "first_quartile_cltv_q1                        59 non-null int16\n",
      "first_quartile_ltv_q1                         59 non-null int16\n",
      "first_quartile_wac_q1                         59 non-null int32\n",
      "first_quartile_wagm_q1                        59 non-null int32\n",
      "first_quartile_wala_q1                        59 non-null int16\n",
      "first_quartile_waolt_q1                       59 non-null int16\n",
      "first_quartile_warm_q1                        59 non-null int16\n",
      "hamp_modified_number_of_loans                 59 non-null int32\n",
      "hamp_modified_pct_of_total_upb                59 non-null int32\n",
      "hamp_modified_upb                             59 non-null int64\n",
      "interest_adjustment_date                      59 non-null int32\n",
      "issuer_name                                   59 non-null object\n",
      "issuer_number                                 59 non-null int16\n",
      "loan_purpose_not_available_number_of_loans    59 non-null int32\n",
      "loan_purpose_not_available_pct_of_upb         59 non-null int32\n",
      "loan_purpose_not_available_upb                59 non-null int64\n",
      "look_back_period                              59 non-null int8\n",
      "ltv_not_available_number_of_loans             59 non-null int32\n",
      "ltv_not_available_pct_of_upb                  59 non-null int32\n",
      "ltv_not_available_upb                         59 non-null int64\n",
      "maximum_aols_q4                               59 non-null int64\n",
      "maximum_cltv_q4                               59 non-null int16\n",
      "maximum_ltv_q4                                59 non-null int16\n",
      "maximum_wac_q4                                59 non-null int32\n",
      "maximum_wagm_q4                               59 non-null int32\n",
      "maximum_wala_q4                               59 non-null int16\n",
      "maximum_waolt_q4                              59 non-null int16\n",
      "maximum_warm_q4                               59 non-null int16\n",
      "median_aols_q2                                59 non-null int64\n",
      "median_cltv_q2                                59 non-null int16\n",
      "median_ltv_q2                                 59 non-null int16\n",
      "median_wac_q2                                 59 non-null int32\n",
      "median_wagm_q2                                59 non-null int32\n",
      "median_wala_q2                                59 non-null int16\n",
      "median_waolt_q2                               59 non-null int16\n",
      "median_warm_q2                                59 non-null int16\n",
      "minimum_aols_q0                               59 non-null int64\n",
      "minimum_cltv_q0                               59 non-null int16\n",
      "minimum_ltv_q0                                59 non-null int16\n",
      "minimum_wac_q0                                59 non-null int32\n",
      "minimum_wagm_q0                               59 non-null int32\n",
      "minimum_wala_q0                               59 non-null int16\n",
      "minimum_waolt_q0                              59 non-null int16\n",
      "minimum_warm_q0                               59 non-null int16\n",
      "non_hamp_modified_number_of_loans             59 non-null int32\n",
      "non_hamp_modified_pct_of_total_upb            59 non-null int32\n",
      "non_hamp_modified_upb                         59 non-null int64\n",
      "number_of_loans_in_pool                       59 non-null int32\n",
      "one_unit_number_of_loans                      59 non-null int32\n",
      "one_unit_pct_of_upb                           59 non-null int32\n",
      "one_unit_upb                                  59 non-null int64\n",
      "original_aggregate_amount                     59 non-null int64\n",
      "payment_adjustment_date                       59 non-null int32\n",
      "pool_indicator                                59 non-null int8\n",
      "pool_issue_date                               59 non-null int32\n",
      "pool_maturity_date                            59 non-null int32\n",
      "pool_number                                   59 non-null object\n",
      "pool_type                                     59 non-null object\n",
      "pool_upb                                      59 non-null int64\n",
      "ptna_number_of_loans                          59 non-null int32\n",
      "ptna_pct_of_upb                               59 non-null int32\n",
      "ptna_upb                                      59 non-null int64\n",
      "purchase_number_of_loans                      59 non-null int32\n",
      "purchase_pct_of_upb                           59 non-null int32\n",
      "purchase_upb                                  59 non-null int64\n",
      "refinance_number_of_loans                     59 non-null int32\n",
      "refinance_pct_of_upb                          59 non-null int32\n",
      "refinance_upb                                 59 non-null int64\n",
      "security_interest_rate                        59 non-null int32\n",
      "security_margin                               59 non-null int16\n",
      "third_quartile_aols_q3                        59 non-null int64\n",
      "third_quartile_cltv_q3                        59 non-null int16\n",
      "third_quartile_ltv_q3                         59 non-null int16\n",
      "third_quartile_wac_q3                         59 non-null int32\n",
      "third_quartile_wagm_q3                        59 non-null int32\n",
      "third_quartile_wala_q3                        59 non-null int16\n",
      "third_quartile_waolt_q3                       59 non-null int16\n",
      "third_quartile_warm_q3                        59 non-null int16\n",
      "wac                                           59 non-null int32\n",
      "wagm                                          59 non-null int32\n",
      "wala                                          59 non-null int16\n",
      "waolt                                         59 non-null int16\n",
      "warm                                          59 non-null int16\n",
      "weighted_average_original_cltv                59 non-null int16\n",
      "weighted_average_original_loan_size           59 non-null int64\n",
      "weighted_average_original_ltv                 59 non-null int16\n",
      "dtypes: int16(32), int32(37), int64(18), int8(2), object(4)\n",
      "memory usage: 22.9+ KB\n"
     ]
    }
   ],
   "source": [
    "p_data = pd.DataFrame(p_data, index=[pp.dt_from_ts(x) for x in p_data[\"as_of_date\"]], columns=p_data.dtype.names)\n",
    "p_data.info()"
   ]
  },
  {
   "cell_type": "code",
   "execution_count": 11,
   "metadata": {
    "collapsed": false
   },
   "outputs": [
    {
     "data": {
      "text/plain": [
       "datetime.date(2012, 2, 1)"
      ]
     },
     "execution_count": 11,
     "metadata": {},
     "output_type": "execute_result"
    }
   ],
   "source": [
    "p_data.index[0]"
   ]
  },
  {
   "cell_type": "code",
   "execution_count": 12,
   "metadata": {
    "collapsed": false
   },
   "outputs": [
    {
     "data": {
      "text/plain": [
       "<matplotlib.axes._subplots.AxesSubplot at 0x7fe5711e15d0>"
      ]
     },
     "execution_count": 12,
     "metadata": {},
     "output_type": "execute_result"
    },
    {
     "data": {
      "image/png": "[encoded data removed]",
      "text/plain": [
       "<matplotlib.figure.Figure at 0x7fe571256ad0>"
      ]
     },
     "metadata": {},
     "output_type": "display_data"
    }
   ],
   "source": [
    "p_data['pool_upb'].plot()"
   ]
  },
  {
   "cell_type": "code",
   "execution_count": 13,
   "metadata": {
    "collapsed": false,
    "scrolled": true
   },
   "outputs": [
    {
     "data": {
      "text/plain": [
       "<matplotlib.axes._subplots.AxesSubplot at 0x7fe57119a3d0>"
      ]
     },
     "execution_count": 13,
     "metadata": {},
     "output_type": "execute_result"
    },
    {
     "data": {
      "image/png": "[encoded data removed]",
      "text/plain": [
       "<matplotlib.figure.Figure at 0x7fe571090250>"
      ]
     },
     "metadata": {},
     "output_type": "display_data"
    }
   ],
   "source": [
    "p_data['pool_upb'].diff().ix[datetime.date(2012,10,1):].plot()"
   ]
  },
  {
   "cell_type": "code",
   "execution_count": 14,
   "metadata": {
    "collapsed": false
   },
   "outputs": [
    {
     "data": {
      "text/plain": [
       "<matplotlib.axes._subplots.AxesSubplot at 0x7fe57117b450>"
      ]
     },
     "execution_count": 14,
     "metadata": {},
     "output_type": "execute_result"
    },
    {
     "data": {
      "image/png": "[encoded data removed]",
      "text/plain": [
       "<matplotlib.figure.Figure at 0x7fe5710a5f10>"
      ]
     },
     "metadata": {},
     "output_type": "display_data"
    }
   ],
   "source": [
    "#(p_data['pool_upb'].diff() + p_data['pool_upb'] *(p_data['wac'] / 1200000.)).ix[datetime.date(2012,10,1):].plot()\n",
    "p_data['pool_upb'].ix[datetime.date(2012,10,1):].plot(color=\"red\")\n",
    "(p_data['original_aggregate_amount'] * (1-p_data['wala'] * (p_data['wac'] / 1200000.))).ix[datetime.date(2012,10,1):].plot(color=\"green\")"
   ]
  },
  {
   "cell_type": "markdown",
   "metadata": {},
   "source": [
    "shouldn't be positive ever."
   ]
  },
  {
   "cell_type": "markdown",
   "metadata": {},
   "source": [
    "Wonder what % of loans have bbg cpr data"
   ]
  },
  {
   "cell_type": "code",
   "execution_count": 15,
   "metadata": {
    "collapsed": true
   },
   "outputs": [],
   "source": [
    "from prepayments.bloomberg_data import CPR_Data"
   ]
  },
  {
   "cell_type": "code",
   "execution_count": 16,
   "metadata": {
    "collapsed": false
   },
   "outputs": [],
   "source": [
    "cpr_data = CPR_Data()"
   ]
  },
  {
   "cell_type": "code",
   "execution_count": 17,
   "metadata": {
    "collapsed": false
   },
   "outputs": [],
   "source": [
    "samples = [gnm_pool.pools_table[i]['cusip'] for i in np.random.choice(14151801,1000)]"
   ]
  },
  {
   "cell_type": "code",
   "execution_count": 19,
   "metadata": {
    "collapsed": false,
    "scrolled": true
   },
   "outputs": [
    {
     "name": "stderr",
     "output_type": "stream",
     "text": [
      "ERROR:root:No CPR data for 36215ACE0\n"
     ]
    },
    {
     "name": "stdout",
     "output_type": "stream",
     "text": [
      "0%\n"
     ]
    },
    {
     "name": "stderr",
     "output_type": "stream",
     "text": [
      "ERROR:root:No CPR data for 36203APX8\n",
      "ERROR:root:No CPR data for 36220BB36\n",
      "ERROR:root:No CPR data for 3621965P8\n",
      "ERROR:root:No CPR data for 36209EDS8\n"
     ]
    },
    {
     "name": "stdout",
     "output_type": "stream",
     "text": [
      "2%\n"
     ]
    },
    {
     "name": "stderr",
     "output_type": "stream",
     "text": [
      "ERROR:root:No CPR data for 36209KAG3\n",
      "ERROR:root:No CPR data for 36209QL29\n"
     ]
    },
    {
     "name": "stdout",
     "output_type": "stream",
     "text": [
      "5%\n"
     ]
    },
    {
     "name": "stderr",
     "output_type": "stream",
     "text": [
      "ERROR:root:No CPR data for 362151HX3\n"
     ]
    },
    {
     "name": "stdout",
     "output_type": "stream",
     "text": [
      "8%\n"
     ]
    },
    {
     "name": "stderr",
     "output_type": "stream",
     "text": [
      "ERROR:root:No CPR data for 36296W7G5\n",
      "ERROR:root:No CPR data for 362170EN8\n",
      "ERROR:root:No CPR data for 362174BA1\n",
      "ERROR:root:No CPR data for 36297JMU5\n"
     ]
    },
    {
     "name": "stdout",
     "output_type": "stream",
     "text": [
      "10%\n"
     ]
    },
    {
     "name": "stderr",
     "output_type": "stream",
     "text": [
      "ERROR:root:No CPR data for 36216XQ46\n",
      "ERROR:root:No CPR data for 362148GV4\n"
     ]
    },
    {
     "name": "stdout",
     "output_type": "stream",
     "text": [
      "12%\n",
      "15%\n"
     ]
    },
    {
     "name": "stderr",
     "output_type": "stream",
     "text": [
      "ERROR:root:No CPR data for 36204CT27\n",
      "ERROR:root:No CPR data for 36209B5V6\n",
      "ERROR:root:No CPR data for 36224EUC5\n",
      "ERROR:root:No CPR data for 36216YYE3\n",
      "ERROR:root:No CPR data for 36219GX75\n",
      "ERROR:root:No CPR data for 36217GF44\n"
     ]
    },
    {
     "name": "stdout",
     "output_type": "stream",
     "text": [
      "18%\n"
     ]
    },
    {
     "name": "stderr",
     "output_type": "stream",
     "text": [
      "ERROR:root:No CPR data for 36211KHC1\n",
      "ERROR:root:No CPR data for 36212QR85\n",
      "ERROR:root:No CPR data for 36224LKY2\n"
     ]
    },
    {
     "name": "stdout",
     "output_type": "stream",
     "text": [
      "20%\n"
     ]
    },
    {
     "name": "stderr",
     "output_type": "stream",
     "text": [
      "ERROR:root:No CPR data for 36219TCQ8\n"
     ]
    },
    {
     "name": "stdout",
     "output_type": "stream",
     "text": [
      "22%\n"
     ]
    },
    {
     "name": "stderr",
     "output_type": "stream",
     "text": [
      "ERROR:root:No CPR data for 36206TDY5\n",
      "ERROR:root:No CPR data for 36230QFF0\n"
     ]
    },
    {
     "name": "stdout",
     "output_type": "stream",
     "text": [
      "25%\n"
     ]
    },
    {
     "name": "stderr",
     "output_type": "stream",
     "text": [
      "ERROR:root:No CPR data for 36230QLW6\n",
      "ERROR:root:No CPR data for 36224AF48\n",
      "ERROR:root:No CPR data for 36218MQ22\n",
      "ERROR:root:No CPR data for 362194FG2\n",
      "ERROR:root:No CPR data for 36291VZB2\n"
     ]
    },
    {
     "name": "stdout",
     "output_type": "stream",
     "text": [
      "28%\n"
     ]
    },
    {
     "name": "stderr",
     "output_type": "stream",
     "text": [
      "ERROR:root:No CPR data for 36211AKE5\n"
     ]
    },
    {
     "name": "stdout",
     "output_type": "stream",
     "text": [
      "30%\n"
     ]
    },
    {
     "name": "stderr",
     "output_type": "stream",
     "text": [
      "ERROR:root:No CPR data for 36210WJD2\n",
      "ERROR:root:No CPR data for 36204FW34\n",
      "ERROR:root:No CPR data for 36292BE69\n"
     ]
    },
    {
     "name": "stdout",
     "output_type": "stream",
     "text": [
      "32%\n"
     ]
    },
    {
     "name": "stderr",
     "output_type": "stream",
     "text": [
      "ERROR:root:No CPR data for 36223E3H5\n",
      "ERROR:root:No CPR data for 36296H3M9\n"
     ]
    },
    {
     "name": "stdout",
     "output_type": "stream",
     "text": [
      "35%\n"
     ]
    },
    {
     "name": "stderr",
     "output_type": "stream",
     "text": [
      "ERROR:root:No CPR data for 36216NSW4\n"
     ]
    },
    {
     "name": "stdout",
     "output_type": "stream",
     "text": [
      "38%\n"
     ]
    },
    {
     "name": "stderr",
     "output_type": "stream",
     "text": [
      "ERROR:root:No CPR data for 3620AQF40\n",
      "ERROR:root:No CPR data for 36224YVY2\n",
      "ERROR:root:No CPR data for 36217RDC4\n",
      "ERROR:root:No CPR data for 36205VEN4\n"
     ]
    },
    {
     "name": "stdout",
     "output_type": "stream",
     "text": [
      "40%\n"
     ]
    },
    {
     "name": "stderr",
     "output_type": "stream",
     "text": [
      "ERROR:root:No CPR data for 36217GQ75\n",
      "ERROR:root:No CPR data for 36217WW57\n"
     ]
    },
    {
     "name": "stdout",
     "output_type": "stream",
     "text": [
      "42%\n",
      "45%\n"
     ]
    },
    {
     "name": "stderr",
     "output_type": "stream",
     "text": [
      "ERROR:root:No CPR data for 36213PJ77\n",
      "ERROR:root:No CPR data for 36208NBA0\n"
     ]
    },
    {
     "name": "stdout",
     "output_type": "stream",
     "text": [
      "48%\n"
     ]
    },
    {
     "name": "stderr",
     "output_type": "stream",
     "text": [
      "ERROR:root:No CPR data for 36296GKF7\n",
      "ERROR:root:No CPR data for 36294UJH6\n"
     ]
    },
    {
     "name": "stdout",
     "output_type": "stream",
     "text": [
      "50%\n"
     ]
    },
    {
     "name": "stderr",
     "output_type": "stream",
     "text": [
      "ERROR:root:No CPR data for 36200XL56\n",
      "ERROR:root:No CPR data for 36214PKJ8\n",
      "ERROR:root:No CPR data for 36224GKT4\n"
     ]
    },
    {
     "name": "stdout",
     "output_type": "stream",
     "text": [
      "52%\n"
     ]
    },
    {
     "name": "stderr",
     "output_type": "stream",
     "text": [
      "ERROR:root:No CPR data for 36218VCV3\n"
     ]
    },
    {
     "name": "stdout",
     "output_type": "stream",
     "text": [
      "55%\n",
      "57%\n"
     ]
    },
    {
     "name": "stderr",
     "output_type": "stream",
     "text": [
      "ERROR:root:No CPR data for 36211EAL2\n",
      "ERROR:root:No CPR data for 36218VQH9\n",
      "ERROR:root:No CPR data for 36224E6R9\n",
      "ERROR:root:No CPR data for 36202ADJ3\n"
     ]
    },
    {
     "name": "stdout",
     "output_type": "stream",
     "text": [
      "60%\n"
     ]
    },
    {
     "name": "stderr",
     "output_type": "stream",
     "text": [
      "ERROR:root:No CPR data for 36202DKS9\n"
     ]
    },
    {
     "name": "stdout",
     "output_type": "stream",
     "text": [
      "62%\n"
     ]
    },
    {
     "name": "stderr",
     "output_type": "stream",
     "text": [
      "ERROR:root:No CPR data for 36295DT66\n",
      "ERROR:root:No CPR data for 36205X5C4\n",
      "ERROR:root:No CPR data for 36213MWT1\n"
     ]
    },
    {
     "name": "stdout",
     "output_type": "stream",
     "text": [
      "65%\n"
     ]
    },
    {
     "name": "stderr",
     "output_type": "stream",
     "text": [
      "ERROR:root:No CPR data for 36205CFH8\n",
      "ERROR:root:No CPR data for 36211JUS4\n",
      "ERROR:root:No CPR data for 36297ANB5\n"
     ]
    },
    {
     "name": "stdout",
     "output_type": "stream",
     "text": [
      "68%\n"
     ]
    },
    {
     "name": "stderr",
     "output_type": "stream",
     "text": [
      "ERROR:root:No CPR data for 362173EV4\n"
     ]
    },
    {
     "name": "stdout",
     "output_type": "stream",
     "text": [
      "70%\n"
     ]
    },
    {
     "name": "stderr",
     "output_type": "stream",
     "text": [
      "ERROR:root:No CPR data for 36206VAG2\n",
      "ERROR:root:No CPR data for 36215JJ95\n"
     ]
    },
    {
     "name": "stdout",
     "output_type": "stream",
     "text": [
      "72%\n"
     ]
    },
    {
     "name": "stderr",
     "output_type": "stream",
     "text": [
      "ERROR:root:No CPR data for 36204C3G4\n",
      "ERROR:root:No CPR data for 36291LYV1\n",
      "ERROR:root:No CPR data for 36218BZZ3\n",
      "ERROR:root:No CPR data for 36208Y5C9\n"
     ]
    },
    {
     "name": "stdout",
     "output_type": "stream",
     "text": [
      "75%\n"
     ]
    },
    {
     "name": "stderr",
     "output_type": "stream",
     "text": [
      "ERROR:root:No CPR data for 36216JP63\n"
     ]
    },
    {
     "name": "stdout",
     "output_type": "stream",
     "text": [
      "78%\n"
     ]
    },
    {
     "name": "stderr",
     "output_type": "stream",
     "text": [
      "ERROR:root:No CPR data for 36202BA21\n"
     ]
    },
    {
     "name": "stdout",
     "output_type": "stream",
     "text": [
      "80%\n"
     ]
    },
    {
     "name": "stderr",
     "output_type": "stream",
     "text": [
      "ERROR:root:No CPR data for 36216WZD8\n"
     ]
    },
    {
     "name": "stdout",
     "output_type": "stream",
     "text": [
      "82%\n"
     ]
    },
    {
     "name": "stderr",
     "output_type": "stream",
     "text": [
      "ERROR:root:No CPR data for 36207KAK6\n"
     ]
    },
    {
     "name": "stdout",
     "output_type": "stream",
     "text": [
      "85%\n"
     ]
    },
    {
     "name": "stderr",
     "output_type": "stream",
     "text": [
      "ERROR:root:No CPR data for 36215FCB5\n",
      "ERROR:root:No CPR data for 36217JBA8\n",
      "ERROR:root:No CPR data for 36208DM44\n"
     ]
    },
    {
     "name": "stdout",
     "output_type": "stream",
     "text": [
      "88%\n"
     ]
    },
    {
     "name": "stderr",
     "output_type": "stream",
     "text": [
      "ERROR:root:No CPR data for 36218EHE4\n"
     ]
    },
    {
     "name": "stdout",
     "output_type": "stream",
     "text": [
      "90%\n",
      "92%\n"
     ]
    },
    {
     "name": "stderr",
     "output_type": "stream",
     "text": [
      "ERROR:root:No CPR data for 36204WQ91\n",
      "ERROR:root:No CPR data for 36296HRW1\n",
      "ERROR:root:No CPR data for 36210KK20\n",
      "ERROR:root:No CPR data for 36207WTE4\n"
     ]
    },
    {
     "name": "stdout",
     "output_type": "stream",
     "text": [
      "95%\n"
     ]
    },
    {
     "name": "stderr",
     "output_type": "stream",
     "text": [
      "ERROR:root:No CPR data for 36224CYH4\n",
      "ERROR:root:No CPR data for 36202WET2\n"
     ]
    },
    {
     "name": "stdout",
     "output_type": "stream",
     "text": [
      "98%\n"
     ]
    }
   ],
   "source": [
    "import warnings\n",
    "warnings.filterwarnings('ignore')\n",
    "missing = []\n",
    "for i, cusip in enumerate(samples):\n",
    "    jim = cpr_data.get_cpr_for_cusip(cusip)\n",
    "    if jim is None:\n",
    "        missing.append(cusip)\n",
    "    if i % 25 == 0:\n",
    "        print \"{:.0%}\".format(float(i) / len(samples))"
   ]
  },
  {
   "cell_type": "code",
   "execution_count": 21,
   "metadata": {
    "collapsed": false
   },
   "outputs": [
    {
     "data": {
      "text/plain": [
       "0.084"
      ]
     },
     "execution_count": 21,
     "metadata": {},
     "output_type": "execute_result"
    }
   ],
   "source": [
    "len(missing) / float(len(samples))"
   ]
  },
  {
   "cell_type": "markdown",
   "metadata": {},
   "source": [
    "So, most of them. We have similar fail rates for other missing data, especially WAC. Ok. Let's proceed with Bloomberg CPR."
   ]
  }
 ],
 "metadata": {
  "kernelspec": {
   "display_name": "Python 2",
   "language": "python",
   "name": "python2"
  },
  "language_info": {
   "codemirror_mode": {
    "name": "ipython",
    "version": 2
   },
   "file_extension": ".py",
   "mimetype": "text/x-python",
   "name": "python",
   "nbconvert_exporter": "python",
   "pygments_lexer": "ipython2",
   "version": "2.7.6"
  }
 },
 "nbformat": 4,
 "nbformat_minor": 1
}
