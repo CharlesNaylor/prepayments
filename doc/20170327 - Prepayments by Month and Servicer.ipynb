{
 "cells": [
  {
   "cell_type": "markdown",
   "metadata": {},
   "source": [
    "# Prepayments by Month and Servicer\n",
    "\n",
    "Barclays does this monthly Prepayment report where they talk about trends in prepayments. \n",
    "\n",
    "Steve:\n",
    "\"I am looking to expand on the outlook to talk more about the factor drivers, what I have is fairly weak right now.  This will be used in our investment process as well.\"\n",
    "\n",
    "> **Outlook**\n",
    "> Current prepayment speeds for both the 3.5% and 3.0% coupon have marginally slowed from the three and six month average CPRs of 17.8% and 20.1% for the 3.5% coupon and 10.5% and 12.6% for the 3.0% coupon. We expect prepayments to remain low as the as the January MIP cut continues to reverberate through the market. We expect a slight increase in speeds from the February 3.5 and 3.0 coupon index levels of 12.2% and 3.0% CPR as government refinance activity picked up 6.5% over the month as rates were relatively unchanged.\n",
    "\n",
    "I need to look at recent prepayment activity in GNM IIs, and chop it up by coupon and vintage, possibly other things."
   ]
  },
  {
   "cell_type": "code",
   "execution_count": 1,
   "metadata": {
    "collapsed": false
   },
   "outputs": [
    {
     "name": "stderr",
     "output_type": "stream",
     "text": [
      "/usr/local/lib/python2.7/dist-packages/matplotlib/font_manager.py:273: UserWarning: Matplotlib is building the font cache using fc-list. This may take a moment.\n",
      "  warnings.warn('Matplotlib is building the font cache using fc-list. This may take a moment.')\n"
     ]
    }
   ],
   "source": [
    "import os\n",
    "os.chdir(\"../\")\n",
    "import prepayments as pp\n",
    "import ggplot as gg\n",
    "from time import mktime\n",
    "import pandas as pd\n",
    "import cPickle as pickle"
   ]
  },
  {
   "cell_type": "code",
   "execution_count": 2,
   "metadata": {
    "collapsed": false
   },
   "outputs": [
    {
     "name": "stdout",
     "output_type": "stream",
     "text": [
      "Populating the interactive namespace from numpy and matplotlib\n"
     ]
    }
   ],
   "source": [
    "%pylab inline"
   ]
  },
  {
   "cell_type": "code",
   "execution_count": 3,
   "metadata": {
    "collapsed": false
   },
   "outputs": [],
   "source": [
    "gnm_data = pp.gnm_data.GNM_Pool()"
   ]
  },
  {
   "cell_type": "markdown",
   "metadata": {},
   "source": [
    "# Prepayments by Month\n",
    "\n",
    "For each pool, calculate monthly CPR and preserve coupon and vintage info."
   ]
  },
  {
   "cell_type": "code",
   "execution_count": 6,
   "metadata": {
    "collapsed": true
   },
   "outputs": [],
   "source": [
    "gnm2_cusips = list(set(gnm_data.h5file.root.candidate_pools.col(\"cusip\")))"
   ]
  },
  {
   "cell_type": "code",
   "execution_count": 7,
   "metadata": {
    "collapsed": false
   },
   "outputs": [
    {
     "data": {
      "text/plain": [
       "45167"
      ]
     },
     "execution_count": 7,
     "metadata": {},
     "output_type": "execute_result"
    }
   ],
   "source": [
    "len(gnm2_cusips)"
   ]
  },
  {
   "cell_type": "markdown",
   "metadata": {},
   "source": [
    "Only cusips that were active since, say, last September."
   ]
  },
  {
   "cell_type": "code",
   "execution_count": 8,
   "metadata": {
    "collapsed": false
   },
   "outputs": [],
   "source": [
    "recent_gnm2_cusips = []\n",
    "for cusip in gnm2_cusips:\n",
    "    p_data = gnm_data.df_for_cusip(cusip, trim=False)\n",
    "    if p_data.ix[datetime.date(2016,9,1):].shape[0] > 0:\n",
    "        recent_gnm2_cusips.append(cusip)"
   ]
  },
  {
   "cell_type": "code",
   "execution_count": 9,
   "metadata": {
    "collapsed": true
   },
   "outputs": [],
   "source": [
    "with open(\"/tmp/recent_gnm2_cusips.pkl\",\"wb\") as f:\n",
    "    pickle.dump(recent_gnm2_cusips, f)"
   ]
  },
  {
   "cell_type": "code",
   "execution_count": 7,
   "metadata": {
    "collapsed": false
   },
   "outputs": [
    {
     "name": "stderr",
     "output_type": "stream",
     "text": [
      "prepayments/gnm_data.py:477: RuntimeWarning: divide by zero encountered in double_scalars\n",
      "  principal_payment = rate / ((1+rate)**(n_payments - loan_age)-1)\n"
     ]
    }
   ],
   "source": [
    "cprs = pd.DataFrame({cusip:gnm_data.cpr_for_cusip(cusip)['2016-09-01':] for cusip in recent_gnm2_cusips})"
   ]
  },
  {
   "cell_type": "code",
   "execution_count": 8,
   "metadata": {
    "collapsed": false
   },
   "outputs": [
    {
     "data": {
      "text/plain": [
       "(6, 39269)"
      ]
     },
     "execution_count": 8,
     "metadata": {},
     "output_type": "execute_result"
    }
   ],
   "source": [
    "cprs.shape"
   ]
  },
  {
   "cell_type": "code",
   "execution_count": 9,
   "metadata": {
    "collapsed": false
   },
   "outputs": [
    {
     "data": {
      "text/plain": [
       "DatetimeIndex(['2016-09-01', '2016-10-01', '2016-11-01', '2016-12-01',\n",
       "               '2017-01-01', '2017-02-01'],\n",
       "              dtype='datetime64[ns]', freq='MS')"
      ]
     },
     "execution_count": 9,
     "metadata": {},
     "output_type": "execute_result"
    }
   ],
   "source": [
    "cprs.index"
   ]
  },
  {
   "cell_type": "markdown",
   "metadata": {},
   "source": [
    "No March data!?!?!"
   ]
  },
  {
   "cell_type": "code",
   "execution_count": 10,
   "metadata": {
    "collapsed": true
   },
   "outputs": [],
   "source": [
    "march_gnm2_cusips = []\n",
    "for cusip in gnm2_cusips:\n",
    "    p_data = gnm_data.df_for_cusip(cusip, trim=False)\n",
    "    if p_data.ix[datetime.date(2017,3,1):].shape[0] > 0:\n",
    "        march_gnm2_cusips.append(cusip)"
   ]
  },
  {
   "cell_type": "code",
   "execution_count": 11,
   "metadata": {
    "collapsed": false
   },
   "outputs": [
    {
     "data": {
      "text/plain": [
       "0"
      ]
     },
     "execution_count": 11,
     "metadata": {},
     "output_type": "execute_result"
    }
   ],
   "source": [
    "len(march_gnm2_cusips)"
   ]
  },
  {
   "cell_type": "markdown",
   "metadata": {},
   "source": [
    "So there's no prepayment data available for March yet, for GNM IIs, at least.\n",
    "\n",
    "Let's rerun the model with some samples for January so that we have an estimate for vintage betas. "
   ]
  },
  {
   "cell_type": "code",
   "execution_count": 15,
   "metadata": {
    "collapsed": false
   },
   "outputs": [
    {
     "data": {
      "text/plain": [
       "2016-09-01    0.248806\n",
       "2016-10-01   -0.000215\n",
       "2016-11-01    0.246030\n",
       "2016-12-01    0.005445\n",
       "2017-01-01   -0.001481\n",
       "2017-02-01    0.242500\n",
       "Freq: MS, Name: 3617A32R0, dtype: float64"
      ]
     },
     "execution_count": 15,
     "metadata": {},
     "output_type": "execute_result"
    }
   ],
   "source": [
    "cprs[recent_gnm2_cusips[150]]"
   ]
  },
  {
   "cell_type": "markdown",
   "metadata": {},
   "source": [
    "... but! BBG CPR is forward a month to CPR calculated from GNM data, so that 0.2425 for cusip `3617A32R0` shows up as March data if you do `G2 A03483 Mtg PDI PERF`. So I have samples for January and February.\n",
    "\n",
    "Let's look at prepayments by issuer, vintage, and coupon."
   ]
  },
  {
   "cell_type": "code",
   "execution_count": 27,
   "metadata": {
    "collapsed": false
   },
   "outputs": [
    {
     "data": {
      "text/plain": [
       "cusip                                                    3617A32R0\n",
       "issuer_name               Pennymac Loan Services, Llc             \n",
       "security_interest_rate                                        4000\n",
       "pool_issue_date                                2015-07-01 00:00:00\n",
       "Name: 2017-02-01, dtype: object"
      ]
     },
     "execution_count": 27,
     "metadata": {},
     "output_type": "execute_result"
    }
   ],
   "source": [
    "p_data.ix[-1,['cusip','issuer_name','security_interest_rate','pool_issue_date']]"
   ]
  },
  {
   "cell_type": "code",
   "execution_count": 14,
   "metadata": {
    "collapsed": false
   },
   "outputs": [
    {
     "data": {
      "text/plain": [
       "Index([u'aols', u'as_of_date', u'cusip', u'few_units_number_of_loans',\n",
       "       u'few_units_pct_of_upb', u'few_units_upb', u'first_quartile_aols_q1',\n",
       "       u'first_quartile_cltv_q1', u'first_quartile_ltv_q1',\n",
       "       u'first_quartile_wac_q1', u'first_quartile_wagm_q1',\n",
       "       u'first_quartile_wala_q1', u'first_quartile_waolt_q1',\n",
       "       u'first_quartile_warm_q1', u'hamp_modified_number_of_loans',\n",
       "       u'hamp_modified_pct_of_total_upb', u'hamp_modified_upb',\n",
       "       u'interest_adjustment_date', u'issuer_name', u'issuer_number',\n",
       "       u'loan_purpose_not_available_number_of_loans',\n",
       "       u'loan_purpose_not_available_pct_of_upb',\n",
       "       u'loan_purpose_not_available_upb', u'look_back_period',\n",
       "       u'ltv_not_available_number_of_loans', u'ltv_not_available_pct_of_upb',\n",
       "       u'ltv_not_available_upb', u'maximum_aols_q4', u'maximum_cltv_q4',\n",
       "       u'maximum_ltv_q4', u'maximum_wac_q4', u'maximum_wagm_q4',\n",
       "       u'maximum_wala_q4', u'maximum_waolt_q4', u'maximum_warm_q4',\n",
       "       u'median_aols_q2', u'median_cltv_q2', u'median_ltv_q2',\n",
       "       u'median_wac_q2', u'median_wagm_q2', u'median_wala_q2',\n",
       "       u'median_waolt_q2', u'median_warm_q2', u'minimum_aols_q0',\n",
       "       u'minimum_cltv_q0', u'minimum_ltv_q0', u'minimum_wac_q0',\n",
       "       u'minimum_wagm_q0', u'minimum_wala_q0', u'minimum_waolt_q0',\n",
       "       u'minimum_warm_q0', u'non_hamp_modified_number_of_loans',\n",
       "       u'non_hamp_modified_pct_of_total_upb', u'non_hamp_modified_upb',\n",
       "       u'number_of_loans_in_pool', u'one_unit_number_of_loans',\n",
       "       u'one_unit_pct_of_upb', u'one_unit_upb', u'original_aggregate_amount',\n",
       "       u'payment_adjustment_date', u'pool_indicator', u'pool_issue_date',\n",
       "       u'pool_maturity_date', u'pool_number', u'pool_type', u'pool_upb',\n",
       "       u'ptna_number_of_loans', u'ptna_pct_of_upb', u'ptna_upb',\n",
       "       u'purchase_number_of_loans', u'purchase_pct_of_upb', u'purchase_upb',\n",
       "       u'refinance_number_of_loans', u'refinance_pct_of_upb', u'refinance_upb',\n",
       "       u'security_interest_rate', u'security_margin',\n",
       "       u'third_quartile_aols_q3', u'third_quartile_cltv_q3',\n",
       "       u'third_quartile_ltv_q3', u'third_quartile_wac_q3',\n",
       "       u'third_quartile_wagm_q3', u'third_quartile_wala_q3',\n",
       "       u'third_quartile_waolt_q3', u'third_quartile_warm_q3', u'wac', u'wagm',\n",
       "       u'wala', u'waolt', u'warm', u'weighted_average_original_cltv',\n",
       "       u'weighted_average_original_loan_size',\n",
       "       u'weighted_average_original_ltv'],\n",
       "      dtype='object')"
      ]
     },
     "execution_count": 14,
     "metadata": {},
     "output_type": "execute_result"
    }
   ],
   "source": [
    "p_data.columns"
   ]
  },
  {
   "cell_type": "code",
   "execution_count": 11,
   "metadata": {
    "collapsed": false
   },
   "outputs": [],
   "source": [
    "pool_info = list()\n",
    "for cusip in recent_gnm2_cusips:\n",
    "    p_data = gnm_data.df_for_cusip(cusip)\n",
    "    pool_info.append(p_data.ix[-1,['cusip','issuer_name', 'wac', 'pool_upb',\n",
    "                                   'security_interest_rate','pool_issue_date']])"
   ]
  },
  {
   "cell_type": "code",
   "execution_count": 12,
   "metadata": {
    "collapsed": false
   },
   "outputs": [],
   "source": [
    "pool_info = pd.DataFrame.from_records(pool_info)\n",
    "pool_info.to_csv(\"/data/prepayments/gnm_ii_pool_info.csv\")"
   ]
  },
  {
   "cell_type": "code",
   "execution_count": 36,
   "metadata": {
    "collapsed": true
   },
   "outputs": [],
   "source": [
    "cprs.to_csv(\"/data/prepayments/gnm_ii_pool_recent_cprs.csv\")"
   ]
  },
  {
   "cell_type": "markdown",
   "metadata": {},
   "source": [
    "# Get new samples"
   ]
  },
  {
   "cell_type": "code",
   "execution_count": 4,
   "metadata": {
    "collapsed": false
   },
   "outputs": [],
   "source": [
    "with open(\"/tmp/recent_gnm2_cusips.pkl\",\"rb\") as f:\n",
    "    recent_gnm2_cusips = pickle.load(f)"
   ]
  },
  {
   "cell_type": "code",
   "execution_count": 5,
   "metadata": {
    "collapsed": false
   },
   "outputs": [],
   "source": [
    "pm = pp.PoolModel()"
   ]
  },
  {
   "cell_type": "code",
   "execution_count": 9,
   "metadata": {
    "collapsed": false,
    "scrolled": true
   },
   "outputs": [
    {
     "name": "stderr",
     "output_type": "stream",
     "text": [
      "ERROR:root:Called current_month_data method for 36179QBR1, but it was paid off last month.\n",
      "ERROR:root:Called current_month_data method for 36292HUY7, but it was paid off last month.\n",
      "ERROR:root:Called current_month_data method for 36176BR82, but it was paid off last month.\n",
      "ERROR:root:Called current_month_data method for 36294RGU7, but it was paid off last month.\n",
      "ERROR:root:Called current_month_data method for 36294P3C5, but it was paid off last month.\n",
      "ERROR:root:Called current_month_data method for 36209DP57, but it was paid off last month.\n",
      "ERROR:root:Weighted Average Coupon is missing for 36202ESG5, 2017-03-29\n",
      "ERROR:root:Called current_month_data method for 36292D7A4, but it was paid off last month.\n",
      "ERROR:root:Called current_month_data method for 36202A2R7, but it was paid off last month.\n",
      "ERROR:root:Called current_month_data method for 36296RMG9, but it was paid off last month.\n",
      "ERROR:root:Called current_month_data on 36202DQ79, but the last data we have is 2016-10-01 00:00:00, more than a month before.\n",
      "ERROR:root:Called current_month_data method for 36230QK72, but it was paid off last month.\n",
      "ERROR:root:Called current_month_data method for 36201LQG2, but it was paid off last month.\n",
      "ERROR:root:Called current_month_data method for 36210SA40, but it was paid off last month.\n",
      "ERROR:root:Called current_month_data method for 3620AQFW8, but it was paid off last month.\n",
      "ERROR:root:Called current_month_data method for 36210TLA2, but it was paid off last month.\n",
      "ERROR:root:Called current_month_data method for 36181FDA6, but it was paid off last month.\n",
      "ERROR:root:Called current_month_data method for 36213TJS3, but it was paid off last month.\n",
      "ERROR:root:Called current_month_data method for 36179SF28, but it was paid off last month.\n",
      "ERROR:root:Called current_month_data method for 36202EFU8, but it was paid off last month.\n",
      "ERROR:root:Called current_month_data method for 36292HYF4, but it was paid off last month.\n",
      "ERROR:root:Weighted Average Coupon is missing for 36202FQZ2, 2017-03-29\n",
      "ERROR:root:Called current_month_data method for 36224VWJ0, but it was paid off last month.\n",
      "ERROR:root:Called current_month_data method for 36202WRL5, but it was paid off last month.\n",
      "ERROR:root:Called current_month_data method for 36291PDW3, but it was paid off last month.\n",
      "ERROR:root:Weighted Average Coupon is missing for 36295KYV9, 2017-03-29\n",
      "ERROR:root:Called current_month_data method for 36202ED89, but it was paid off last month.\n",
      "ERROR:root:Called current_month_data method for 362176BR9, but it was paid off last month.\n",
      "ERROR:root:Called current_month_data method for 36219FL21, but it was paid off last month.\n",
      "ERROR:root:Called current_month_data method for 36292HU43, but it was paid off last month.\n",
      "ERROR:root:Called current_month_data method for 36290YB64, but it was paid off last month.\n",
      "ERROR:root:Called current_month_data method for 36294YFB5, but it was paid off last month.\n",
      "ERROR:root:Called current_month_data method for 36200GNP7, but it was paid off last month.\n",
      "ERROR:root:Weighted Average Coupon is missing for 36202EPX1, 2017-03-29\n",
      "ERROR:root:Called current_month_data method for 36295KFV0, but it was paid off last month.\n",
      "ERROR:root:Called current_month_data method for 362164NR2, but it was paid off last month.\n",
      "ERROR:root:Called current_month_data method for 36230PCH1, but it was paid off last month.\n",
      "ERROR:root:Called current_month_data method for 36297FDV1, but it was paid off last month.\n",
      "ERROR:root:Weighted Average Coupon is missing for 36291PQW9, 2017-03-29\n",
      "ERROR:root:Called current_month_data method for 36294WBX5, but it was paid off last month.\n",
      "ERROR:root:Called current_month_data method for 36216LX44, but it was paid off last month.\n",
      "ERROR:root:Called current_month_data method for 3620C43M0, but it was paid off last month.\n",
      "ERROR:root:Called current_month_data method for 36202BP66, but it was paid off last month.\n",
      "ERROR:root:Called current_month_data method for 36202FHE9, but it was paid off last month.\n",
      "ERROR:root:Called current_month_data method for 36201EDH0, but it was paid off last month.\n",
      "ERROR:root:Called current_month_data method for 36217VV43, but it was paid off last month.\n",
      "ERROR:root:Called current_month_data method for 36208WPT4, but it was paid off last month.\n",
      "ERROR:root:Called current_month_data method for 36217JYF2, but it was paid off last month.\n",
      "ERROR:root:Called current_month_data method for 36208TX47, but it was paid off last month.\n",
      "ERROR:root:Called current_month_data method for 36202BCB9, but it was paid off last month.\n",
      "ERROR:root:Called current_month_data method for 362165RX2, but it was paid off last month.\n",
      "ERROR:root:Weighted Average Coupon is missing for 36179QMF5, 2017-03-29\n",
      "ERROR:root:Called current_month_data method for 3620C1DQ6, but it was paid off last month.\n",
      "ERROR:root:Called current_month_data method for 36223KRG7, but it was paid off last month.\n",
      "ERROR:root:Called current_month_data method for 36202AZM2, but it was paid off last month.\n",
      "ERROR:root:Called current_month_data method for 36202CSQ7, but it was paid off last month.\n",
      "ERROR:root:Called current_month_data method for 36296N4X1, but it was paid off last month.\n",
      "ERROR:root:Called current_month_data method for 3620AGBA2, but it was paid off last month.\n",
      "ERROR:root:Called current_month_data method for 36178MLA7, but it was paid off last month.\n",
      "ERROR:root:Called current_month_data method for 36290YD54, but it was paid off last month.\n",
      "ERROR:root:Called current_month_data method for 362208TE0, but it was paid off last month.\n",
      "ERROR:root:Called current_month_data method for 36202AJK4, but it was paid off last month.\n",
      "ERROR:root:Called current_month_data method for 3620AWMT4, but it was paid off last month.\n",
      "ERROR:root:Called current_month_data method for 362163CA3, but it was paid off last month.\n",
      "ERROR:root:Called current_month_data method for 36202AY35, but it was paid off last month.\n",
      "ERROR:root:Weighted Average Coupon is missing for 36182ECM3, 2017-03-29\n",
      "ERROR:root:Called current_month_data on 362171FZ8, but the last data we have is 2016-11-01 00:00:00, more than a month before.\n",
      "ERROR:root:Weighted Average Coupon is missing for 36202DV40, 2017-03-29\n",
      "ERROR:root:Called current_month_data method for 36176MA52, but it was paid off last month.\n",
      "ERROR:root:Called current_month_data method for 36292J6Z7, but it was paid off last month.\n",
      "ERROR:root:Called current_month_data method for 36210FZ74, but it was paid off last month.\n",
      "ERROR:root:Called current_month_data method for 36202FUA2, but it was paid off last month.\n",
      "ERROR:root:Called current_month_data method for 36179M4R8, but it was paid off last month.\n",
      "ERROR:root:Called current_month_data method for 36294PRM7, but it was paid off last month.\n",
      "ERROR:root:Called current_month_data method for 36223G4Q9, but it was paid off last month.\n",
      "ERROR:root:Called current_month_data method for 36296LKF6, but it was paid off last month.\n",
      "ERROR:root:Called current_month_data method for 36202V4Z1, but it was paid off last month.\n",
      "ERROR:root:Called current_month_data method for 3620ADJQ6, but it was paid off last month.\n",
      "ERROR:root:Called current_month_data method for 36202E4B2, but it was paid off last month.\n",
      "ERROR:root:Called current_month_data method for 36297ATE3, but it was paid off last month.\n",
      "ERROR:root:Called current_month_data method for 36202BQV0, but it was paid off last month.\n",
      "ERROR:root:Called current_month_data method for 36179RWE5, but it was paid off last month.\n",
      "ERROR:root:Called current_month_data method for 36223JUD3, but it was paid off last month.\n",
      "ERROR:root:Called current_month_data method for 36202EUY3, but it was paid off last month.\n",
      "ERROR:root:Called current_month_data method for 36294UJ60, but it was paid off last month.\n",
      "ERROR:root:Called current_month_data method for 36201CZ64, but it was paid off last month.\n",
      "ERROR:root:Called current_month_data method for 36217JKS9, but it was paid off last month.\n",
      "ERROR:root:Called current_month_data method for 362171GP9, but it was paid off last month.\n",
      "ERROR:root:Called current_month_data method for 36290RCP6, but it was paid off last month.\n",
      "ERROR:root:Called current_month_data method for 36200FCW6, but it was paid off last month.\n",
      "ERROR:root:Called current_month_data method for 36179SDF1, but it was paid off last month.\n",
      "ERROR:root:Called current_month_data method for 36210GGX6, but it was paid off last month.\n",
      "ERROR:root:Called current_month_data method for 36295YAC7, but it was paid off last month.\n",
      "ERROR:root:Called current_month_data method for 36184YEM5, but it was paid off last month.\n",
      "ERROR:root:Called current_month_data method for 36200JZX1, but it was paid off last month.\n",
      "ERROR:root:Called current_month_data method for 36230PY95, but it was paid off last month.\n",
      "ERROR:root:Called current_month_data method for 36295FQS6, but it was paid off last month.\n",
      "ERROR:root:Called current_month_data method for 36294P4H3, but it was paid off last month.\n",
      "ERROR:root:Called current_month_data method for 36211TNM3, but it was paid off last month.\n",
      "ERROR:root:Called current_month_data method for 3620AXHM3, but it was paid off last month.\n",
      "ERROR:root:Called current_month_data method for 36202DR37, but it was paid off last month.\n",
      "ERROR:root:Called current_month_data method for 36295MXV6, but it was paid off last month.\n",
      "ERROR:root:Called current_month_data method for 36291TMS4, but it was paid off last month.\n",
      "ERROR:root:Called current_month_data method for 36220JE85, but it was paid off last month.\n",
      "ERROR:root:Called current_month_data method for 36201EYE4, but it was paid off last month.\n",
      "ERROR:root:Called current_month_data method for 36202FL20, but it was paid off last month.\n",
      "ERROR:root:Called current_month_data method for 36180JUF9, but it was paid off last month.\n",
      "ERROR:root:Called current_month_data method for 36204VSS9, but it was paid off last month.\n",
      "ERROR:root:Called current_month_data method for 36220CTV3, but it was paid off last month.\n",
      "ERROR:root:Called current_month_data on 36202AXZ5, but the last data we have is 2016-09-01 00:00:00, more than a month before.\n",
      "ERROR:root:Called current_month_data method for 36294UMQ2, but it was paid off last month.\n",
      "ERROR:root:Called current_month_data method for 36200VTR4, but it was paid off last month.\n",
      "ERROR:root:Weighted Average Coupon is missing for 36179RZQ5, 2017-03-29\n",
      "ERROR:root:Called current_month_data method for 36205JGX7, but it was paid off last month.\n",
      "ERROR:root:Called current_month_data method for 36223QCX3, but it was paid off last month.\n",
      "ERROR:root:Called current_month_data method for 36202UZF3, but it was paid off last month.\n",
      "ERROR:root:Called current_month_data method for 36207U5V6, but it was paid off last month.\n",
      "ERROR:root:Called current_month_data method for 36211JAN7, but it was paid off last month.\n",
      "ERROR:root:Called current_month_data method for 36296PXU0, but it was paid off last month.\n",
      "ERROR:root:Called current_month_data method for 36230PVX5, but it was paid off last month.\n",
      "ERROR:root:Called current_month_data method for 36202AWV5, but it was paid off last month.\n",
      "ERROR:root:Called current_month_data on 36223G4D8, but the last data we have is 2017-01-01 00:00:00, more than a month before.\n",
      "ERROR:root:Called current_month_data method for 36220LVZ1, but it was paid off last month.\n",
      "ERROR:root:Called current_month_data method for 36210KQR9, but it was paid off last month.\n",
      "ERROR:root:Called current_month_data method for 36294WBW7, but it was paid off last month.\n",
      "ERROR:root:Called current_month_data method for 36202A3Z8, but it was paid off last month.\n",
      "ERROR:root:Called current_month_data method for 3620AQD42, but it was paid off last month.\n",
      "ERROR:root:Called current_month_data method for 36294VWD8, but it was paid off last month.\n",
      "ERROR:root:Called current_month_data method for 36202XXG7, but it was paid off last month.\n",
      "ERROR:root:Called current_month_data method for 36207NS54, but it was paid off last month.\n",
      "ERROR:root:Called current_month_data method for 36179NR67, but it was paid off last month.\n",
      "ERROR:root:Called current_month_data method for 36296K7D8, but it was paid off last month.\n",
      "ERROR:root:Called current_month_data method for 3620AQAY9, but it was paid off last month.\n",
      "ERROR:root:Called current_month_data on 36223ADE9, but the last data we have is 2016-12-01 00:00:00, more than a month before.\n",
      "ERROR:root:Called current_month_data method for 3620AQFA6, but it was paid off last month.\n",
      "ERROR:root:Called current_month_data method for 36297ARR6, but it was paid off last month.\n",
      "ERROR:root:Called current_month_data method for 36291KGZ4, but it was paid off last month.\n",
      "ERROR:root:Called current_month_data method for 3620A6GW1, but it was paid off last month.\n",
      "ERROR:root:Called current_month_data method for 36209LGJ9, but it was paid off last month.\n",
      "ERROR:root:Called current_month_data method for 36295EZC4, but it was paid off last month.\n",
      "ERROR:root:Called current_month_data method for 36230KEB3, but it was paid off last month.\n",
      "ERROR:root:Called current_month_data on 36202AYH4, but the last data we have is 2016-12-01 00:00:00, more than a month before.\n",
      "ERROR:root:Called current_month_data method for 36210KRE7, but it was paid off last month.\n",
      "ERROR:root:Called current_month_data method for 36216Q4J2, but it was paid off last month.\n",
      "ERROR:root:Called current_month_data method for 36200J2B5, but it was paid off last month.\n",
      "ERROR:root:Called current_month_data method for 36292HUC5, but it was paid off last month.\n",
      "ERROR:root:Called current_month_data method for 36176A5V7, but it was paid off last month.\n",
      "ERROR:root:Called current_month_data method for 36295MQN2, but it was paid off last month.\n",
      "ERROR:root:Weighted Average Coupon is missing for 3620AN6T2, 2017-03-29\n",
      "ERROR:root:Called current_month_data method for 36294TGA7, but it was paid off last month.\n",
      "ERROR:root:Called current_month_data method for 36297AY56, but it was paid off last month.\n",
      "ERROR:root:Called current_month_data method for 36296TJ79, but it was paid off last month.\n",
      "ERROR:root:Called current_month_data method for 36202EF61, but it was paid off last month.\n",
      "ERROR:root:Called current_month_data on 36217GK48, but the last data we have is 2017-01-01 00:00:00, more than a month before.\n",
      "ERROR:root:Weighted Average Coupon is missing for 36202FRM0, 2017-03-29\n",
      "ERROR:root:Called current_month_data method for 36202A6U6, but it was paid off last month.\n",
      "ERROR:root:Called current_month_data method for 36291RKR2, but it was paid off last month.\n",
      "ERROR:root:Weighted Average Coupon is missing for 36296RL47, 2017-03-29\n",
      "ERROR:root:Called current_month_data method for 36202DQV6, but it was paid off last month.\n",
      "ERROR:root:Called current_month_data method for 36292MAV4, but it was paid off last month.\n",
      "ERROR:root:Called current_month_data method for 36296TSY0, but it was paid off last month.\n",
      "ERROR:root:Called current_month_data method for 36202AY68, but it was paid off last month.\n",
      "ERROR:root:Called current_month_data method for 36176PYJ9, but it was paid off last month.\n",
      "ERROR:root:Called current_month_data method for 36202E3A5, but it was paid off last month.\n",
      "ERROR:root:Called current_month_data on 36217GMR5, but the last data we have is 2016-11-01 00:00:00, more than a month before.\n",
      "ERROR:root:Weighted Average Coupon is missing for 36194ESW0, 2017-03-29\n",
      "ERROR:root:Called current_month_data method for 36202AXY8, but it was paid off last month.\n",
      "ERROR:root:Called current_month_data on 36202DRA1, but the last data we have is 2016-11-01 00:00:00, more than a month before.\n",
      "ERROR:root:Called current_month_data on 36217DJ70, but the last data we have is 2017-01-01 00:00:00, more than a month before.\n",
      "ERROR:root:Called current_month_data method for 36218AKB4, but it was paid off last month.\n",
      "ERROR:root:Called current_month_data method for 36223WLS1, but it was paid off last month.\n",
      "ERROR:root:Called current_month_data method for 362191ED6, but it was paid off last month.\n",
      "ERROR:root:Called current_month_data method for 36220HBP4, but it was paid off last month.\n",
      "ERROR:root:Called current_month_data method for 36179SMT1, but it was paid off last month.\n",
      "ERROR:root:Called current_month_data on 36217MA61, but the last data we have is 2016-11-01 00:00:00, more than a month before.\n",
      "ERROR:root:Called current_month_data method for 36202BK46, but it was paid off last month.\n",
      "ERROR:root:Weighted Average Coupon is missing for 36202ESE0, 2017-03-29\n",
      "ERROR:root:Called current_month_data method for 36291QWM2, but it was paid off last month.\n",
      "ERROR:root:Called current_month_data method for 36202DQ95, but it was paid off last month.\n",
      "ERROR:root:Called current_month_data method for 36202FXN1, but it was paid off last month.\n",
      "ERROR:root:Called current_month_data method for 36218MUK7, but it was paid off last month.\n",
      "ERROR:root:Called current_month_data method for 36202TRD0, but it was paid off last month.\n",
      "ERROR:root:Called current_month_data method for 3620AQFQ1, but it was paid off last month.\n",
      "ERROR:root:Weighted Average Coupon is missing for 36230N6U4, 2017-03-29\n",
      "ERROR:root:Called current_month_data method for 36296KUL4, but it was paid off last month.\n",
      "ERROR:root:Weighted Average Coupon is missing for 36216GZM3, 2017-03-29\n",
      "ERROR:root:Called current_month_data method for 36176LN50, but it was paid off last month.\n",
      "ERROR:root:Called current_month_data method for 36296RYG6, but it was paid off last month.\n",
      "ERROR:root:Called current_month_data method for 36179QZ53, but it was paid off last month.\n",
      "ERROR:root:Called current_month_data method for 36295YK51, but it was paid off last month.\n",
      "ERROR:root:Called current_month_data method for 36295USZ5, but it was paid off last month.\n",
      "ERROR:root:Called current_month_data on 362206KV5, but the last data we have is 2016-11-01 00:00:00, more than a month before.\n",
      "ERROR:root:Called current_month_data method for 3621717E4, but it was paid off last month.\n",
      "ERROR:root:Called current_month_data method for 36202BMA0, but it was paid off last month.\n",
      "ERROR:root:Called current_month_data method for 36292NW55, but it was paid off last month.\n",
      "ERROR:root:Called current_month_data method for 36200FCX4, but it was paid off last month.\n",
      "ERROR:root:Called current_month_data method for 36202DPH8, but it was paid off last month.\n",
      "ERROR:root:Called current_month_data method for 36202DSV4, but it was paid off last month.\n",
      "ERROR:root:Called current_month_data method for 36206VER4, but it was paid off last month.\n",
      "ERROR:root:Called current_month_data method for 36179MZG8, but it was paid off last month.\n",
      "ERROR:root:Called current_month_data method for 36202A2L0, but it was paid off last month.\n",
      "ERROR:root:Called current_month_data method for 3620AXVV7, but it was paid off last month.\n",
      "ERROR:root:Called current_month_data method for 36295YYQ0, but it was paid off last month.\n",
      "ERROR:root:Called current_month_data method for 36294UPV8, but it was paid off last month.\n",
      "ERROR:root:Called current_month_data on 362171FT2, but the last data we have is 2016-10-01 00:00:00, more than a month before.\n",
      "ERROR:root:Called current_month_data method for 36202BF75, but it was paid off last month.\n",
      "ERROR:root:Called current_month_data method for 36201QTQ6, but it was paid off last month.\n",
      "ERROR:root:Called current_month_data method for 36291WCK5, but it was paid off last month.\n",
      "ERROR:root:Called current_month_data method for 36202DQK0, but it was paid off last month.\n",
      "ERROR:root:Called current_month_data on 36202BAG0, but the last data we have is 2017-01-01 00:00:00, more than a month before.\n",
      "ERROR:root:Called current_month_data method for 362195CQ0, but it was paid off last month.\n",
      "ERROR:root:Called current_month_data method for 36210GCL6, but it was paid off last month.\n",
      "ERROR:root:Called current_month_data method for 36202D2K6, but it was paid off last month.\n",
      "ERROR:root:Called current_month_data method for 36202DRQ6, but it was paid off last month.\n",
      "ERROR:root:Weighted Average Coupon is missing for 36209BLK2, 2017-03-29\n",
      "ERROR:root:Called current_month_data method for 36202BMY8, but it was paid off last month.\n",
      "ERROR:root:Called current_month_data method for 36295CV65, but it was paid off last month.\n",
      "ERROR:root:Weighted Average Coupon is missing for 36202DUN9, 2017-03-29\n",
      "ERROR:root:Called current_month_data method for 36202EML0, but it was paid off last month.\n",
      "ERROR:root:Called current_month_data method for 36201RMK4, but it was paid off last month.\n",
      "ERROR:root:Called current_month_data method for 36218FYM4, but it was paid off last month.\n",
      "ERROR:root:Weighted Average Coupon is missing for 36202DEJ6, 2017-03-29\n",
      "ERROR:root:Weighted Average Coupon is missing for 36202ENV7, 2017-03-29\n",
      "ERROR:root:Called current_month_data method for 36202BCY9, but it was paid off last month.\n",
      "ERROR:root:Called current_month_data method for 36202CRS4, but it was paid off last month.\n",
      "ERROR:root:Called current_month_data method for 36296PFE6, but it was paid off last month.\n",
      "ERROR:root:Called current_month_data method for 362172J66, but it was paid off last month.\n",
      "ERROR:root:Weighted Average Coupon is missing for 36179NBK3, 2017-03-29\n",
      "ERROR:root:Called current_month_data method for 36220DBP3, but it was paid off last month.\n",
      "ERROR:root:Called current_month_data method for 36295MUC1, but it was paid off last month.\n",
      "ERROR:root:Called current_month_data method for 36296RNF0, but it was paid off last month.\n",
      "ERROR:root:Called current_month_data method for 36296THD8, but it was paid off last month.\n",
      "ERROR:root:Called current_month_data method for 36217RVK6, but it was paid off last month.\n",
      "ERROR:root:Weighted Average Coupon is missing for 36202DQR5, 2017-03-29\n",
      "ERROR:root:Called current_month_data method for 36297AUG6, but it was paid off last month.\n",
      "ERROR:root:Called current_month_data method for 36295MZ28, but it was paid off last month.\n",
      "ERROR:root:Called current_month_data method for 36202AY50, but it was paid off last month.\n",
      "ERROR:root:Called current_month_data method for 36202DGA3, but it was paid off last month.\n",
      "ERROR:root:Called current_month_data method for 36291PRB4, but it was paid off last month.\n",
      "ERROR:root:Called current_month_data method for 36292D5G3, but it was paid off last month.\n",
      "ERROR:root:Called current_month_data method for 36296EBX3, but it was paid off last month.\n",
      "ERROR:root:Called current_month_data method for 36202AXG7, but it was paid off last month.\n",
      "ERROR:root:Called current_month_data method for 36292HXR9, but it was paid off last month.\n",
      "ERROR:root:Called current_month_data method for 36182J6W7, but it was paid off last month.\n",
      "ERROR:root:Called current_month_data method for 36179SQP5, but it was paid off last month.\n",
      "ERROR:root:Called current_month_data method for 36202BCQ6, but it was paid off last month.\n",
      "ERROR:root:Weighted Average Coupon is missing for 36210V3Q2, 2017-03-29\n",
      "ERROR:root:Called current_month_data method for 36202CCX9, but it was paid off last month.\n",
      "ERROR:root:Called current_month_data method for 36211BQA5, but it was paid off last month.\n",
      "ERROR:root:Called current_month_data method for 36296D3N6, but it was paid off last month.\n",
      "ERROR:root:Called current_month_data method for 36176SXT2, but it was paid off last month.\n",
      "ERROR:root:Called current_month_data method for 36295ML49, but it was paid off last month.\n",
      "ERROR:root:Called current_month_data method for 36291WZ38, but it was paid off last month.\n",
      "ERROR:root:Weighted Average Coupon is missing for 36202EFF1, 2017-03-29\n",
      "ERROR:root:Weighted Average Coupon is missing for 36178QNN8, 2017-03-29\n",
      "ERROR:root:Called current_month_data method for 36176TNM6, but it was paid off last month.\n",
      "ERROR:root:Called current_month_data method for 36295JJ72, but it was paid off last month.\n",
      "ERROR:root:Called current_month_data method for 3620C1HD1, but it was paid off last month.\n",
      "ERROR:root:Called current_month_data method for 3620AYZN9, but it was paid off last month.\n",
      "ERROR:root:Called current_month_data method for 36205NT97, but it was paid off last month.\n",
      "ERROR:root:Called current_month_data method for 36292JW47, but it was paid off last month.\n",
      "ERROR:root:Called current_month_data method for 36176KTM9, but it was paid off last month.\n",
      "ERROR:root:Called current_month_data method for 36294UJ45, but it was paid off last month.\n",
      "ERROR:root:Called current_month_data method for 36207SHB2, but it was paid off last month.\n",
      "ERROR:root:Called current_month_data method for 3620AWQR4, but it was paid off last month.\n",
      "ERROR:root:Called current_month_data method for 36202EXQ7, but it was paid off last month.\n",
      "ERROR:root:Called current_month_data method for 36291HCF9, but it was paid off last month.\n",
      "ERROR:root:Called current_month_data method for 36202BB46, but it was paid off last month.\n",
      "ERROR:root:Called current_month_data method for 36294RKC2, but it was paid off last month.\n",
      "ERROR:root:Called current_month_data method for 36294RGE3, but it was paid off last month.\n",
      "ERROR:root:Called current_month_data method for 36202AYG6, but it was paid off last month.\n",
      "ERROR:root:Called current_month_data method for 36207WFA7, but it was paid off last month.\n",
      "ERROR:root:Called current_month_data method for 3620A9VE8, but it was paid off last month.\n",
      "ERROR:root:Called current_month_data method for 3620AF6R3, but it was paid off last month.\n",
      "ERROR:root:Called current_month_data method for 36297DZQ3, but it was paid off last month.\n",
      "ERROR:root:Weighted Average Coupon is missing for 36211UHM7, 2017-03-29\n",
      "ERROR:root:Called current_month_data method for 36294PXT5, but it was paid off last month.\n",
      "ERROR:root:Called current_month_data method for 36295URA1, but it was paid off last month.\n",
      "ERROR:root:Called current_month_data method for 36294PP64, but it was paid off last month.\n",
      "ERROR:root:Called current_month_data method for 36200G2A3, but it was paid off last month.\n",
      "ERROR:root:Weighted Average Coupon is missing for 36202ENK1, 2017-03-29\n",
      "ERROR:root:Called current_month_data method for 36210R6K1, but it was paid off last month.\n",
      "ERROR:root:Weighted Average Coupon is missing for 36202C6M0, 2017-03-29\n",
      "ERROR:root:Called current_month_data method for 36211NE79, but it was paid off last month.\n",
      "ERROR:root:Called current_month_data method for 362164NQ4, but it was paid off last month.\n",
      "ERROR:root:Called current_month_data method for 36202A6G7, but it was paid off last month.\n",
      "ERROR:root:Called current_month_data on 36202DP47, but the last data we have is 2016-09-01 00:00:00, more than a month before.\n",
      "ERROR:root:Called current_month_data method for 36291GZX7, but it was paid off last month.\n",
      "ERROR:root:Called current_month_data method for 36294VY79, but it was paid off last month.\n",
      "ERROR:root:Weighted Average Coupon is missing for 36192SZY9, 2017-03-29\n",
      "ERROR:root:Called current_month_data method for 36202AXW2, but it was paid off last month.\n",
      "ERROR:root:Called current_month_data method for 36297FF56, but it was paid off last month.\n",
      "ERROR:root:Called current_month_data method for 36295UPU9, but it was paid off last month.\n",
      "ERROR:root:Called current_month_data method for 36294WC48, but it was paid off last month.\n",
      "ERROR:root:Called current_month_data method for 3621785R2, but it was paid off last month.\n",
      "ERROR:root:Called current_month_data method for 36201LF25, but it was paid off last month.\n",
      "ERROR:root:Called current_month_data method for 36179NM21, but it was paid off last month.\n",
      "ERROR:root:Called current_month_data method for 36291PZL3, but it was paid off last month.\n",
      "ERROR:root:Weighted Average Coupon is missing for 36295MPQ6, 2017-03-29\n",
      "ERROR:root:Called current_month_data method for 36296ATA2, but it was paid off last month.\n",
      "ERROR:root:Weighted Average Coupon is missing for 36193LDG6, 2017-03-29\n",
      "ERROR:root:Called current_month_data method for 36295MMU0, but it was paid off last month.\n",
      "ERROR:root:Called current_month_data method for 36201QVH3, but it was paid off last month.\n",
      "ERROR:root:Called current_month_data method for 36202AZL4, but it was paid off last month.\n",
      "ERROR:root:Called current_month_data method for 36179RP29, but it was paid off last month.\n",
      "ERROR:root:Called current_month_data on 36202A7C5, but the last data we have is 2016-11-01 00:00:00, more than a month before.\n",
      "ERROR:root:Called current_month_data method for 36295FQQ0, but it was paid off last month.\n",
      "ERROR:root:Called current_month_data on 362160KU6, but the last data we have is 2016-12-01 00:00:00, more than a month before.\n",
      "ERROR:root:Called current_month_data method for 36202BDD4, but it was paid off last month.\n",
      "ERROR:root:Weighted Average Coupon is missing for 36202CQV8, 2017-03-29\n",
      "ERROR:root:Called current_month_data method for 36200CP74, but it was paid off last month.\n",
      "ERROR:root:Called current_month_data method for 36176BAK3, but it was paid off last month.\n",
      "ERROR:root:Called current_month_data method for 362163K63, but it was paid off last month.\n",
      "ERROR:root:Called current_month_data method for 36295YKR3, but it was paid off last month.\n",
      "ERROR:root:Called current_month_data method for 36216V6W0, but it was paid off last month.\n",
      "ERROR:root:Weighted Average Coupon is missing for 36179M5T3, 2017-03-29\n",
      "ERROR:root:Called current_month_data method for 36295WSX6, but it was paid off last month.\n",
      "ERROR:root:Called current_month_data method for 36201LEZ3, but it was paid off last month.\n",
      "ERROR:root:Called current_month_data method for 36296TGE7, but it was paid off last month.\n",
      "ERROR:root:Called current_month_data method for 36205HUN7, but it was paid off last month.\n",
      "ERROR:root:Called current_month_data method for 36291KQY6, but it was paid off last month.\n",
      "ERROR:root:Called current_month_data method for 36295QUB4, but it was paid off last month.\n",
      "ERROR:root:Called current_month_data method for 36294NNV6, but it was paid off last month.\n",
      "ERROR:root:Called current_month_data method for 36230L6Q7, but it was paid off last month.\n",
      "ERROR:root:Called current_month_data method for 362170PU0, but it was paid off last month.\n",
      "ERROR:root:Called current_month_data method for 36176BY50, but it was paid off last month.\n",
      "ERROR:root:Called current_month_data method for 36295CWX5, but it was paid off last month.\n",
      "ERROR:root:Weighted Average Coupon is missing for 36179QV24, 2017-03-29\n",
      "ERROR:root:Called current_month_data method for 36205Q5F2, but it was paid off last month.\n",
      "ERROR:root:Called current_month_data method for 36202F2F2, but it was paid off last month.\n",
      "ERROR:root:Called current_month_data method for 36176DFX6, but it was paid off last month.\n",
      "ERROR:root:Called current_month_data method for 362169H72, but it was paid off last month.\n",
      "ERROR:root:Called current_month_data method for 36218LCJ2, but it was paid off last month.\n",
      "ERROR:root:Called current_month_data method for 36200HMV3, but it was paid off last month.\n",
      "ERROR:root:Weighted Average Coupon is missing for 36230UUR8, 2017-03-29\n",
      "ERROR:root:Called current_month_data method for 36211CMW9, but it was paid off last month.\n",
      "ERROR:root:Called current_month_data method for 36296RL62, but it was paid off last month.\n",
      "ERROR:root:Called current_month_data method for 36296KZZ8, but it was paid off last month.\n",
      "ERROR:root:Called current_month_data method for 36217AHW3, but it was paid off last month.\n",
      "ERROR:root:Called current_month_data method for 36295K2D4, but it was paid off last month.\n",
      "ERROR:root:Called current_month_data method for 3620AGC60, but it was paid off last month.\n",
      "ERROR:root:Called current_month_data method for 3620AWHE3, but it was paid off last month.\n",
      "ERROR:root:Called current_month_data method for 36205X5R1, but it was paid off last month.\n",
      "ERROR:root:Called current_month_data method for 3620C1CX2, but it was paid off last month.\n",
      "ERROR:root:Called current_month_data method for 36292KCE4, but it was paid off last month.\n",
      "ERROR:root:Called current_month_data method for 36180KGY1, but it was paid off last month.\n",
      "ERROR:root:Called current_month_data method for 36202SMY1, but it was paid off last month.\n",
      "ERROR:root:Called current_month_data method for 36230QW61, but it was paid off last month.\n",
      "ERROR:root:Called current_month_data method for 36206VB89, but it was paid off last month.\n",
      "ERROR:root:Called current_month_data method for 36201QVX8, but it was paid off last month.\n",
      "ERROR:root:Called current_month_data method for 36290Q5T8, but it was paid off last month.\n",
      "ERROR:root:Called current_month_data method for 36202DSL6, but it was paid off last month.\n",
      "ERROR:root:Called current_month_data method for 36295JDM5, but it was paid off last month.\n",
      "ERROR:root:Called current_month_data method for 36208NUR2, but it was paid off last month.\n",
      "ERROR:root:Called current_month_data method for 36294PVF7, but it was paid off last month.\n",
      "ERROR:root:Called current_month_data method for 3620A6N37, but it was paid off last month.\n",
      "ERROR:root:Called current_month_data method for 36176TCW6, but it was paid off last month.\n",
      "ERROR:root:Called current_month_data method for 36179MJ35, but it was paid off last month.\n",
      "ERROR:root:Called current_month_data method for 36213THW6, but it was paid off last month.\n",
      "ERROR:root:Called current_month_data method for 362171B33, but it was paid off last month.\n",
      "ERROR:root:Called current_month_data method for 36297AUZ4, but it was paid off last month.\n",
      "ERROR:root:Called current_month_data on 36202A6D4, but the last data we have is 2016-12-01 00:00:00, more than a month before.\n",
      "ERROR:root:Called current_month_data method for 36176TCL0, but it was paid off last month.\n",
      "ERROR:root:Called current_month_data method for 36230PFX3, but it was paid off last month.\n",
      "ERROR:root:Called current_month_data method for 36294TQT5, but it was paid off last month.\n",
      "ERROR:root:Called current_month_data method for 36291KH34, but it was paid off last month.\n",
      "ERROR:root:Called current_month_data method for 36216GZC5, but it was paid off last month.\n",
      "ERROR:root:Called current_month_data method for 36202CW66, but it was paid off last month.\n",
      "ERROR:root:Called current_month_data method for 36205JJS5, but it was paid off last month.\n",
      "ERROR:root:Called current_month_data method for 36291A7M5, but it was paid off last month.\n",
      "ERROR:root:Called current_month_data method for 36218SUW8, but it was paid off last month.\n",
      "ERROR:root:Called current_month_data method for 36296TJR5, but it was paid off last month.\n",
      "ERROR:root:Called current_month_data method for 36209NQS4, but it was paid off last month.\n",
      "ERROR:root:Called current_month_data method for 36295ETL1, but it was paid off last month.\n",
      "ERROR:root:Weighted Average Coupon is missing for 36208LYE1, 2017-03-29\n",
      "ERROR:root:Called current_month_data method for 36177WWB2, but it was paid off last month.\n",
      "ERROR:root:Called current_month_data method for 36177WLZ1, but it was paid off last month.\n",
      "ERROR:root:Called current_month_data method for 36296D3Q9, but it was paid off last month.\n",
      "ERROR:root:Called current_month_data method for 36208VJM8, but it was paid off last month.\n",
      "ERROR:root:Called current_month_data method for 36202FK96, but it was paid off last month.\n",
      "ERROR:root:Called current_month_data method for 36201R2F7, but it was paid off last month.\n",
      "ERROR:root:Called current_month_data method for 36295Q2A7, but it was paid off last month.\n",
      "ERROR:root:Called current_month_data method for 36295Y6U2, but it was paid off last month.\n",
      "ERROR:root:Called current_month_data method for 36202CEK5, but it was paid off last month.\n",
      "ERROR:root:Called current_month_data method for 36291G3W4, but it was paid off last month.\n",
      "ERROR:root:Called current_month_data method for 36295JFT8, but it was paid off last month.\n",
      "ERROR:root:Called current_month_data method for 36296PDD0, but it was paid off last month.\n",
      "ERROR:root:Called current_month_data method for 36207Y7M6, but it was paid off last month.\n",
      "ERROR:root:Called current_month_data method for 36210RYR5, but it was paid off last month.\n",
      "ERROR:root:Called current_month_data method for 36201EUU2, but it was paid off last month.\n",
      "ERROR:root:Called current_month_data method for 36291HU51, but it was paid off last month.\n",
      "ERROR:root:Called current_month_data method for 36216PEP9, but it was paid off last month.\n",
      "ERROR:root:Called current_month_data method for 36202FZR0, but it was paid off last month.\n",
      "ERROR:root:Called current_month_data method for 36295UKS9, but it was paid off last month.\n",
      "ERROR:root:Weighted Average Coupon is missing for 36202DVD0, 2017-03-29\n",
      "ERROR:root:Called current_month_data method for 36295YP56, but it was paid off last month.\n",
      "ERROR:root:Called current_month_data method for 36176BQ42, but it was paid off last month.\n",
      "ERROR:root:Called current_month_data method for 36291PFA9, but it was paid off last month.\n",
      "ERROR:root:Called current_month_data method for 3620C45E6, but it was paid off last month.\n",
      "ERROR:root:Weighted Average Coupon is missing for 36202DGC9, 2017-03-29\n",
      "ERROR:root:Weighted Average Coupon is missing for 36202FNR3, 2017-03-29\n",
      "ERROR:root:Called current_month_data method for 36212WG43, but it was paid off last month.\n",
      "ERROR:root:Called current_month_data method for 36230QMB1, but it was paid off last month.\n",
      "ERROR:root:Called current_month_data on 36202DQU8, but the last data we have is 2016-10-01 00:00:00, more than a month before.\n",
      "ERROR:root:Called current_month_data method for 36176SZ78, but it was paid off last month.\n",
      "ERROR:root:Called current_month_data method for 3620AGDD4, but it was paid off last month.\n",
      "ERROR:root:Called current_month_data method for 36201EC81, but it was paid off last month.\n",
      "ERROR:root:Called current_month_data method for 36202AXX0, but it was paid off last month.\n",
      "ERROR:root:Called current_month_data method for 36201ED49, but it was paid off last month.\n",
      "ERROR:root:Called current_month_data on 36211VF96, but the last data we have is 2016-11-01 00:00:00, more than a month before.\n",
      "ERROR:root:Called current_month_data on 36202DRN3, but the last data we have is 2016-11-01 00:00:00, more than a month before.\n",
      "ERROR:root:Called current_month_data method for 36217V4E1, but it was paid off last month.\n",
      "ERROR:root:Called current_month_data on 36202AXE2, but the last data we have is 2016-09-01 00:00:00, more than a month before.\n",
      "ERROR:root:Called current_month_data method for 36200FCF3, but it was paid off last month.\n",
      "ERROR:root:Called current_month_data method for 362173RG3, but it was paid off last month.\n",
      "ERROR:root:Called current_month_data method for 36202DQ87, but it was paid off last month.\n",
      "ERROR:root:Called current_month_data method for 36294PPU1, but it was paid off last month.\n",
      "ERROR:root:Called current_month_data method for 36295WRM1, but it was paid off last month.\n",
      "ERROR:root:Called current_month_data on 36201G2W4, but the last data we have is 2016-12-01 00:00:00, more than a month before.\n",
      "ERROR:root:Called current_month_data method for 36294TUS2, but it was paid off last month.\n",
      "ERROR:root:Called current_month_data method for 362181P45, but it was paid off last month.\n",
      "ERROR:root:Called current_month_data method for 36200BV79, but it was paid off last month.\n",
      "ERROR:root:Weighted Average Coupon is missing for 36202E3J6, 2017-03-29\n",
      "ERROR:root:Called current_month_data method for 36292NYB0, but it was paid off last month.\n",
      "ERROR:root:Called current_month_data method for 36296T4Z3, but it was paid off last month.\n",
      "ERROR:root:Called current_month_data method for 36295H3A6, but it was paid off last month.\n",
      "ERROR:root:Called current_month_data method for 36296TKJ1, but it was paid off last month.\n",
      "ERROR:root:Called current_month_data method for 36230KLF6, but it was paid off last month.\n",
      "ERROR:root:Called current_month_data method for 36176A5U9, but it was paid off last month.\n",
      "ERROR:root:Called current_month_data method for 36176BGB7, but it was paid off last month.\n",
      "ERROR:root:Called current_month_data method for 36208RGP3, but it was paid off last month.\n",
      "ERROR:root:Called current_month_data method for 3620AF6U6, but it was paid off last month.\n",
      "ERROR:root:Called current_month_data method for 36201RMD0, but it was paid off last month.\n",
      "ERROR:root:Called current_month_data method for 36291TEW4, but it was paid off last month.\n",
      "ERROR:root:Called current_month_data method for 36210TND4, but it was paid off last month.\n",
      "ERROR:root:Weighted Average Coupon is missing for 36290Q5Q4, 2017-03-29\n",
      "ERROR:root:Called current_month_data method for 36295JDH6, but it was paid off last month.\n",
      "ERROR:root:Weighted Average Coupon is missing for 36212LDK4, 2017-03-29\n",
      "ERROR:root:Called current_month_data method for 36202DQJ3, but it was paid off last month.\n",
      "ERROR:root:Called current_month_data method for 36224PNG9, but it was paid off last month.\n",
      "ERROR:root:Called current_month_data method for 36179SK97, but it was paid off last month.\n",
      "ERROR:root:Called current_month_data method for 36294P2N2, but it was paid off last month.\n",
      "ERROR:root:Called current_month_data method for 36209BCC0, but it was paid off last month.\n",
      "ERROR:root:Called current_month_data method for 36202AZ59, but it was paid off last month.\n",
      "ERROR:root:Called current_month_data method for 3620ADKF8, but it was paid off last month.\n",
      "ERROR:root:Called current_month_data method for 36211QSC6, but it was paid off last month.\n",
      "ERROR:root:Called current_month_data method for 36176TFR4, but it was paid off last month.\n",
      "ERROR:root:Called current_month_data method for 36291LTW5, but it was paid off last month.\n",
      "ERROR:root:Called current_month_data method for 36294VYC8, but it was paid off last month.\n",
      "ERROR:root:Called current_month_data method for 36200D3M3, but it was paid off last month.\n",
      "ERROR:root:Called current_month_data method for 36295UKA8, but it was paid off last month.\n",
      "ERROR:root:Called current_month_data method for 36179R5Y1, but it was paid off last month.\n",
      "ERROR:root:Weighted Average Coupon is missing for 36219K3C8, 2017-03-29\n",
      "ERROR:root:Weighted Average Coupon is missing for 36202CLQ4, 2017-03-29\n",
      "ERROR:root:Called current_month_data method for 3620AF5M5, but it was paid off last month.\n",
      "ERROR:root:Called current_month_data method for 36230KGK1, but it was paid off last month.\n",
      "ERROR:root:Called current_month_data method for 36294TUU7, but it was paid off last month.\n",
      "ERROR:root:Called current_month_data method for 36230MAQ0, but it was paid off last month.\n",
      "ERROR:root:Called current_month_data method for 36179NXW3, but it was paid off last month.\n",
      "ERROR:root:Called current_month_data method for 36213MHF8, but it was paid off last month.\n",
      "ERROR:root:Called current_month_data method for 36206VCH8, but it was paid off last month.\n",
      "ERROR:root:Called current_month_data method for 36202BEL5, but it was paid off last month.\n",
      "ERROR:root:Called current_month_data method for 36211QVN8, but it was paid off last month.\n",
      "ERROR:root:Called current_month_data method for 36202FVC7, but it was paid off last month.\n",
      "ERROR:root:Called current_month_data method for 36296GKQ3, but it was paid off last month.\n",
      "ERROR:root:Called current_month_data on 36217GLF2, but the last data we have is 2016-10-01 00:00:00, more than a month before.\n",
      "ERROR:root:Called current_month_data method for 36291KJH1, but it was paid off last month.\n",
      "ERROR:root:Called current_month_data method for 36202AY27, but it was paid off last month.\n",
      "ERROR:root:Called current_month_data method for 36202EXH7, but it was paid off last month.\n",
      "ERROR:root:Called current_month_data method for 36296WYY6, but it was paid off last month.\n",
      "ERROR:root:Called current_month_data method for 36202AXF9, but it was paid off last month.\n",
      "ERROR:root:Called current_month_data method for 3620AWSA9, but it was paid off last month.\n",
      "ERROR:root:Called current_month_data method for 36230L6S3, but it was paid off last month.\n",
      "ERROR:root:Called current_month_data method for 3620C5BT3, but it was paid off last month.\n",
      "ERROR:root:Called current_month_data method for 36202DSY8, but it was paid off last month.\n",
      "ERROR:root:Called current_month_data method for 36213LVN7, but it was paid off last month.\n",
      "ERROR:root:Called current_month_data method for 36295Y5X7, but it was paid off last month.\n",
      "ERROR:root:Called current_month_data method for 36210R4Z0, but it was paid off last month.\n",
      "ERROR:root:Called current_month_data method for 36202TS64, but it was paid off last month.\n",
      "ERROR:root:Called current_month_data method for 3620ADH39, but it was paid off last month.\n",
      "ERROR:root:Called current_month_data method for 36292JXC8, but it was paid off last month.\n",
      "ERROR:root:Called current_month_data method for 36202A3V7, but it was paid off last month.\n",
      "ERROR:root:Called current_month_data method for 36176LGL3, but it was paid off last month.\n",
      "ERROR:root:Called current_month_data method for 36296RS99, but it was paid off last month.\n",
      "ERROR:root:Called current_month_data method for 36294YFL3, but it was paid off last month.\n",
      "ERROR:root:Called current_month_data method for 36181LRJ9, but it was paid off last month.\n",
      "ERROR:root:Called current_month_data method for 36292APZ5, but it was paid off last month.\n",
      "ERROR:root:Called current_month_data method for 36292JXX2, but it was paid off last month.\n",
      "ERROR:root:Called current_month_data method for 36295Y6G3, but it was paid off last month.\n",
      "ERROR:root:Called current_month_data method for 36295JNZ5, but it was paid off last month.\n",
      "ERROR:root:Called current_month_data method for 36217XCH1, but it was paid off last month.\n",
      "ERROR:root:Called current_month_data method for 36230L3B3, but it was paid off last month.\n",
      "ERROR:root:Called current_month_data method for 36200SFR6, but it was paid off last month.\n",
      "ERROR:root:Called current_month_data method for 362171F47, but it was paid off last month.\n",
      "ERROR:root:Called current_month_data method for 36217V4X9, but it was paid off last month.\n",
      "ERROR:root:Called current_month_data method for 36294TN50, but it was paid off last month.\n",
      "ERROR:root:Called current_month_data method for 36291HB29, but it was paid off last month.\n",
      "ERROR:root:Called current_month_data method for 3620AX2D9, but it was paid off last month.\n",
      "ERROR:root:Weighted Average Coupon is missing for 36179NBF4, 2017-03-29\n",
      "ERROR:root:Called current_month_data method for 36200S2K5, but it was paid off last month.\n",
      "ERROR:root:Called current_month_data method for 36294VYS3, but it was paid off last month.\n",
      "ERROR:root:Called current_month_data method for 36179RVK2, but it was paid off last month.\n",
      "ERROR:root:Called current_month_data method for 36296XA38, but it was paid off last month.\n",
      "ERROR:root:Called current_month_data method for 36200GRH1, but it was paid off last month.\n",
      "ERROR:root:Called current_month_data method for 36202F3Z7, but it was paid off last month.\n",
      "ERROR:root:Called current_month_data method for 36294QQJ3, but it was paid off last month.\n",
      "ERROR:root:Called current_month_data method for 3620AFW37, but it was paid off last month.\n",
      "ERROR:root:Called current_month_data method for 36201RVR9, but it was paid off last month.\n",
      "ERROR:root:Called current_month_data method for 36207RSL0, but it was paid off last month.\n",
      "ERROR:root:Called current_month_data method for 36201LRG1, but it was paid off last month.\n",
      "ERROR:root:Called current_month_data method for 36295HZ86, but it was paid off last month.\n",
      "ERROR:root:Called current_month_data method for 36179RUP2, but it was paid off last month.\n",
      "ERROR:root:Called current_month_data method for 36296GMJ7, but it was paid off last month.\n",
      "ERROR:root:Called current_month_data method for 36201LQM9, but it was paid off last month.\n",
      "ERROR:root:Called current_month_data method for 3620AWP20, but it was paid off last month.\n",
      "ERROR:root:Called current_month_data method for 3622006N2, but it was paid off last month.\n",
      "ERROR:root:Called current_month_data method for 36205X5D2, but it was paid off last month.\n",
      "ERROR:root:Called current_month_data method for 36291G2U9, but it was paid off last month.\n",
      "ERROR:root:Called current_month_data method for 36230LW88, but it was paid off last month.\n",
      "ERROR:root:Called current_month_data method for 36296RLZ8, but it was paid off last month.\n",
      "ERROR:root:Weighted Average Coupon is missing for 36200GVZ6, 2017-03-29\n",
      "ERROR:root:Called current_month_data method for 36202AZ26, but it was paid off last month.\n",
      "ERROR:root:Called current_month_data method for 36209DG24, but it was paid off last month.\n",
      "ERROR:root:Called current_month_data method for 36202AXV4, but it was paid off last month.\n",
      "ERROR:root:Called current_month_data method for 36292GN84, but it was paid off last month.\n",
      "ERROR:root:Called current_month_data method for 36211VWR7, but it was paid off last month.\n",
      "ERROR:root:Called current_month_data method for 36291GFE1, but it was paid off last month.\n",
      "ERROR:root:Called current_month_data method for 36179JKP1, but it was paid off last month.\n",
      "ERROR:root:Called current_month_data method for 36224PPH5, but it was paid off last month.\n",
      "ERROR:root:Called current_month_data method for 36291TLB2, but it was paid off last month.\n",
      "ERROR:root:Called current_month_data method for 36202UZG1, but it was paid off last month.\n",
      "ERROR:root:Called current_month_data method for 36296BW24, but it was paid off last month.\n",
      "ERROR:root:Called current_month_data method for 36295FPA6, but it was paid off last month.\n",
      "ERROR:root:Called current_month_data method for 3620C1CW4, but it was paid off last month.\n",
      "ERROR:root:Called current_month_data method for 36202AZK6, but it was paid off last month.\n",
      "ERROR:root:Called current_month_data method for 36291G5E2, but it was paid off last month.\n",
      "ERROR:root:Called current_month_data method for 36212WD38, but it was paid off last month.\n",
      "ERROR:root:Called current_month_data method for 36297AZH9, but it was paid off last month.\n",
      "ERROR:root:Called current_month_data method for 36202FNX0, but it was paid off last month.\n",
      "ERROR:root:Called current_month_data method for 36202FMN3, but it was paid off last month.\n",
      "ERROR:root:Weighted Average Coupon is missing for 36295MSU4, 2017-03-29\n",
      "ERROR:root:Called current_month_data on 36202A3Y1, but the last data we have is 2016-10-01 00:00:00, more than a month before.\n",
      "ERROR:root:Called current_month_data method for 36294VTC4, but it was paid off last month.\n",
      "ERROR:root:Called current_month_data method for 362163MS3, but it was paid off last month.\n",
      "ERROR:root:Called current_month_data method for 36179QAS0, but it was paid off last month.\n",
      "ERROR:root:Called current_month_data method for 36200CKK0, but it was paid off last month.\n",
      "ERROR:root:Called current_month_data method for 36200USL0, but it was paid off last month.\n",
      "ERROR:root:Called current_month_data method for 36291TKN7, but it was paid off last month.\n",
      "ERROR:root:Called current_month_data method for 362171F96, but it was paid off last month.\n",
      "ERROR:root:Called current_month_data method for 36297ANV1, but it was paid off last month.\n",
      "ERROR:root:Called current_month_data method for 36295YKC6, but it was paid off last month.\n",
      "ERROR:root:Called current_month_data method for 36176TC55, but it was paid off last month.\n",
      "ERROR:root:Called current_month_data method for 36208HBV7, but it was paid off last month.\n",
      "ERROR:root:Called current_month_data method for 36211PLH4, but it was paid off last month.\n",
      "ERROR:root:Called current_month_data method for 36292E2W9, but it was paid off last month.\n",
      "ERROR:root:Weighted Average Coupon is missing for 36179MMM9, 2017-03-29\n",
      "ERROR:root:Called current_month_data method for 36211JA98, but it was paid off last month.\n",
      "ERROR:root:Called current_month_data method for 36202F2G0, but it was paid off last month.\n",
      "ERROR:root:Called current_month_data method for 362169H80, but it was paid off last month.\n",
      "ERROR:root:Called current_month_data method for 36176LEC5, but it was paid off last month.\n",
      "ERROR:root:Weighted Average Coupon is missing for 36198K5K3, 2017-03-29\n",
      "ERROR:root:Called current_month_data method for 36202FE36, but it was paid off last month.\n",
      "ERROR:root:Called current_month_data method for 36224DJ55, but it was paid off last month.\n",
      "ERROR:root:Called current_month_data method for 3620ADEW8, but it was paid off last month.\n",
      "ERROR:root:Called current_month_data method for 36202UYP2, but it was paid off last month.\n",
      "ERROR:root:Called current_month_data method for 36179MVZ0, but it was paid off last month.\n",
      "ERROR:root:Weighted Average Coupon is missing for 36206P7G9, 2017-03-29\n",
      "ERROR:root:Called current_month_data method for 36295XZ81, but it was paid off last month.\n",
      "ERROR:root:Called current_month_data method for 36217WXE7, but it was paid off last month.\n",
      "ERROR:root:Called current_month_data method for 36209WMK5, but it was paid off last month.\n",
      "ERROR:root:Called current_month_data method for 36291RKH4, but it was paid off last month.\n",
      "ERROR:root:Called current_month_data method for 36200XQR3, but it was paid off last month.\n",
      "ERROR:root:Called current_month_data method for 36296ABQ6, but it was paid off last month.\n",
      "ERROR:root:Weighted Average Coupon is missing for 36202EUW7, 2017-03-29\n",
      "ERROR:root:Called current_month_data method for 36294YC85, but it was paid off last month.\n",
      "ERROR:root:Called current_month_data method for 362172KE7, but it was paid off last month.\n",
      "ERROR:root:Called current_month_data method for 36295Q5U0, but it was paid off last month.\n",
      "ERROR:root:Called current_month_data method for 36291WXQ9, but it was paid off last month.\n",
      "ERROR:root:Weighted Average Coupon is missing for 36178QME9, 2017-03-29\n",
      "ERROR:root:Called current_month_data method for 3620APZL2, but it was paid off last month.\n",
      "ERROR:root:Called current_month_data method for 36295FQM9, but it was paid off last month.\n",
      "ERROR:root:Called current_month_data method for 36202AYJ0, but it was paid off last month.\n",
      "ERROR:root:Called current_month_data method for 36210KTA3, but it was paid off last month.\n",
      "ERROR:root:Called current_month_data method for 36208TX96, but it was paid off last month.\n",
      "ERROR:root:Called current_month_data method for 36290VTF1, but it was paid off last month.\n",
      "ERROR:root:Called current_month_data method for 362203MN8, but it was paid off last month.\n",
      "ERROR:root:Called current_month_data method for 36217JJR3, but it was paid off last month.\n",
      "ERROR:root:Called current_month_data method for 36217XKV1, but it was paid off last month.\n",
      "ERROR:root:Called current_month_data method for 3617AALV4, but it was paid off last month.\n",
      "ERROR:root:Weighted Average Coupon is missing for 36202DTY7, 2017-03-29\n",
      "ERROR:root:Called current_month_data method for 3620ADK84, but it was paid off last month.\n",
      "ERROR:root:Called current_month_data on 36179SJP3, but the last data we have is 2016-09-01 00:00:00, more than a month before.\n",
      "ERROR:root:Called current_month_data method for 36295FVB7, but it was paid off last month.\n",
      "ERROR:root:Called current_month_data method for 36212PMX7, but it was paid off last month.\n",
      "ERROR:root:Called current_month_data method for 36205JJR7, but it was paid off last month.\n",
      "ERROR:root:Called current_month_data method for 36176DRM7, but it was paid off last month.\n",
      "ERROR:root:Called current_month_data method for 36292DZM7, but it was paid off last month.\n",
      "ERROR:root:Weighted Average Coupon is missing for 36207FAF8, 2017-03-29\n",
      "ERROR:root:Called current_month_data method for 36176BRM1, but it was paid off last month.\n",
      "ERROR:root:Called current_month_data method for 36208LMX2, but it was paid off last month.\n",
      "ERROR:root:Called current_month_data method for 36202FT30, but it was paid off last month.\n",
      "ERROR:root:Called current_month_data method for 36179SBC0, but it was paid off last month.\n",
      "ERROR:root:Weighted Average Coupon is missing for 36202BYW9, 2017-03-29\n",
      "ERROR:root:Called current_month_data method for 36295CWD9, but it was paid off last month.\n",
      "ERROR:root:Weighted Average Coupon is missing for 36202FJM9, 2017-03-29\n",
      "ERROR:root:Called current_month_data method for 36202A2M8, but it was paid off last month.\n",
      "ERROR:root:Weighted Average Coupon is missing for 36295Y5J8, 2017-03-29\n",
      "ERROR:root:Called current_month_data method for 36292CWZ3, but it was paid off last month.\n",
      "ERROR:root:Called current_month_data method for 36213A5L4, but it was paid off last month.\n",
      "ERROR:root:Called current_month_data method for 36179N4L9, but it was paid off last month.\n",
      "ERROR:root:Called current_month_data method for 36292DY30, but it was paid off last month.\n",
      "ERROR:root:Called current_month_data method for 36202EUG2, but it was paid off last month.\n",
      "ERROR:root:Called current_month_data method for 36202BAD7, but it was paid off last month.\n",
      "ERROR:root:Called current_month_data on 36202DRP8, but the last data we have is 2017-01-01 00:00:00, more than a month before.\n",
      "ERROR:root:Called current_month_data method for 362161EL1, but it was paid off last month.\n",
      "ERROR:root:Weighted Average Coupon is missing for 36202EQP7, 2017-03-29\n",
      "ERROR:root:Called current_month_data method for 36202FQJ8, but it was paid off last month.\n",
      "ERROR:root:Called current_month_data method for 36200HGQ1, but it was paid off last month.\n",
      "ERROR:root:Called current_month_data method for 36206QDV7, but it was paid off last month.\n",
      "ERROR:root:Called current_month_data method for 36176QSV7, but it was paid off last month.\n",
      "ERROR:root:Called current_month_data method for 3620A6K97, but it was paid off last month.\n",
      "ERROR:root:Called current_month_data method for 36295UQB0, but it was paid off last month.\n",
      "ERROR:root:Weighted Average Coupon is missing for 36195SB30, 2017-03-29\n",
      "ERROR:root:Called current_month_data method for 36179R6U8, but it was paid off last month.\n",
      "ERROR:root:Called current_month_data method for 36202E2X6, but it was paid off last month.\n",
      "ERROR:root:Weighted Average Coupon is missing for 3620ATDH7, 2017-03-29\n",
      "ERROR:root:Called current_month_data method for 36207DZT6, but it was paid off last month.\n",
      "ERROR:root:Called current_month_data method for 36223KRD4, but it was paid off last month.\n",
      "ERROR:root:Called current_month_data method for 36223AD33, but it was paid off last month.\n",
      "ERROR:root:Called current_month_data method for 36200GV37, but it was paid off last month.\n",
      "ERROR:root:Weighted Average Coupon is missing for 36202EDT3, 2017-03-29\n",
      "ERROR:root:Called current_month_data method for 36202DQT1, but it was paid off last month.\n",
      "ERROR:root:Called current_month_data method for 36291WZU8, but it was paid off last month.\n",
      "ERROR:root:Called current_month_data method for 36292JXH7, but it was paid off last month.\n",
      "ERROR:root:Called current_month_data method for 36202CEW9, but it was paid off last month.\n",
      "ERROR:root:Called current_month_data method for 36202BAL9, but it was paid off last month.\n",
      "ERROR:root:Called current_month_data method for 36223SRQ8, but it was paid off last month.\n",
      "ERROR:root:Called current_month_data method for 36202AY43, but it was paid off last month.\n",
      "ERROR:root:Called current_month_data method for 36212DZZ5, but it was paid off last month.\n",
      "ERROR:root:Called current_month_data method for 36292JVB2, but it was paid off last month.\n",
      "ERROR:root:Called current_month_data method for 36200CLF0, but it was paid off last month.\n",
      "ERROR:root:Called current_month_data method for 3620C3XM9, but it was paid off last month.\n"
     ]
    }
   ],
   "source": [
    "data = dict()\n",
    "for cusip in recent_gnm2_cusips:\n",
    "    data[cusip] = pm.current_month_data_for_cusip(cusip, dt=pd.Timestamp(\"2017-03-29\"))"
   ]
  },
  {
   "cell_type": "code",
   "execution_count": 10,
   "metadata": {
    "collapsed": true
   },
   "outputs": [],
   "source": [
    "p_data = pd.DataFrame.from_dict({k:v for k,v in data.items() if v is not None}, orient='index')"
   ]
  },
  {
   "cell_type": "code",
   "execution_count": 11,
   "metadata": {
    "collapsed": false
   },
   "outputs": [
    {
     "name": "stdout",
     "output_type": "stream",
     "text": [
      "<class 'pandas.core.frame.DataFrame'>\n",
      "Index: 38627 entries, 36176A5R6 to 36297KZ38\n",
      "Data columns (total 14 columns):\n",
      "upfront_mip               38627 non-null float64\n",
      "lockin                    38627 non-null float64\n",
      "wala                      38627 non-null int64\n",
      "seasonality               38627 non-null int64\n",
      "wac                       38627 non-null int64\n",
      "origination_dt            38627 non-null datetime64[ns]\n",
      "upb                       38627 non-null int64\n",
      "incentive                 38627 non-null float64\n",
      "cato                      38627 non-null float64\n",
      "security_interest_rate    38627 non-null int64\n",
      "burnout                   38627 non-null float64\n",
      "dt                        38627 non-null datetime64[ns]\n",
      "hpa                       38627 non-null float64\n",
      "sato                      38627 non-null float64\n",
      "dtypes: datetime64[ns](2), float64(7), int64(5)\n",
      "memory usage: 4.4+ MB\n"
     ]
    }
   ],
   "source": [
    "p_data.info()"
   ]
  },
  {
   "cell_type": "code",
   "execution_count": 12,
   "metadata": {
    "collapsed": false
   },
   "outputs": [],
   "source": [
    "p_data.reset_index().to_csv(\"/data/prepayments/201703 gnm_ii_data.csv\")"
   ]
  },
  {
   "cell_type": "markdown",
   "metadata": {},
   "source": [
    "Missing all Febs. Because I *am* taking CPRs at the correct month. Bloomberg sucks."
   ]
  },
  {
   "cell_type": "code",
   "execution_count": 20,
   "metadata": {
    "collapsed": false
   },
   "outputs": [],
   "source": [
    "cprs = pd.read_csv(\"/data/prepayments/gnm_ii_pool_recent_cprs.csv\")\n"
   ]
  },
  {
   "cell_type": "code",
   "execution_count": 25,
   "metadata": {
    "collapsed": false
   },
   "outputs": [
    {
     "ename": "ValueError",
     "evalue": "The file 'data/bbg_data.h5' is already opened, but in read-only mode.  Please close it before reopening in append mode.",
     "output_type": "error",
     "traceback": [
      "\u001b[0;31m---------------------------------------------------------------------------\u001b[0m",
      "\u001b[0;31mValueError\u001b[0m                                Traceback (most recent call last)",
      "\u001b[0;32m<ipython-input-25-7e28c7cebb71>\u001b[0m in \u001b[0;36m<module>\u001b[0;34m()\u001b[0m\n\u001b[0;32m----> 1\u001b[0;31m \u001b[0mdata_yc\u001b[0m \u001b[0;34m=\u001b[0m \u001b[0mpp\u001b[0m\u001b[0;34m.\u001b[0m\u001b[0mbloomberg_data\u001b[0m\u001b[0;34m.\u001b[0m\u001b[0mYC_Data\u001b[0m\u001b[0;34m(\u001b[0m\u001b[0mread_only\u001b[0m\u001b[0;34m=\u001b[0m\u001b[0mFalse\u001b[0m\u001b[0;34m)\u001b[0m\u001b[0;34m\u001b[0m\u001b[0m\n\u001b[0m",
      "\u001b[0;32m/home/charles/src/LondonMirror/Prepayments/prepayments/bloomberg_data.pyc\u001b[0m in \u001b[0;36m__init__\u001b[0;34m(self, read_only)\u001b[0m\n\u001b[1;32m    164\u001b[0m \u001b[0;34m\u001b[0m\u001b[0m\n\u001b[1;32m    165\u001b[0m     \u001b[0;32mdef\u001b[0m \u001b[0m__init__\u001b[0m\u001b[0;34m(\u001b[0m\u001b[0mself\u001b[0m\u001b[0;34m,\u001b[0m \u001b[0mread_only\u001b[0m\u001b[0;34m=\u001b[0m\u001b[0mTrue\u001b[0m\u001b[0;34m)\u001b[0m\u001b[0;34m:\u001b[0m\u001b[0;34m\u001b[0m\u001b[0m\n\u001b[0;32m--> 166\u001b[0;31m         \u001b[0msuper\u001b[0m\u001b[0;34m(\u001b[0m\u001b[0mYC_Data\u001b[0m\u001b[0;34m,\u001b[0m \u001b[0mself\u001b[0m\u001b[0;34m)\u001b[0m\u001b[0;34m.\u001b[0m\u001b[0m__init__\u001b[0m\u001b[0;34m(\u001b[0m\u001b[0mread_only\u001b[0m\u001b[0;34m=\u001b[0m\u001b[0mread_only\u001b[0m\u001b[0;34m)\u001b[0m\u001b[0;34m\u001b[0m\u001b[0m\n\u001b[0m\u001b[1;32m    167\u001b[0m         \u001b[0mself\u001b[0m\u001b[0;34m.\u001b[0m\u001b[0myc\u001b[0m \u001b[0;34m=\u001b[0m \u001b[0mself\u001b[0m\u001b[0;34m.\u001b[0m\u001b[0mhdfstore\u001b[0m\u001b[0;34m[\u001b[0m\u001b[0;34m'yc'\u001b[0m\u001b[0;34m]\u001b[0m \u001b[0;31m#Cache it.\u001b[0m\u001b[0;34m\u001b[0m\u001b[0m\n\u001b[1;32m    168\u001b[0m \u001b[0;34m\u001b[0m\u001b[0m\n",
      "\u001b[0;32m/home/charles/src/LondonMirror/Prepayments/prepayments/bloomberg_data.pyc\u001b[0m in \u001b[0;36m__init__\u001b[0;34m(self, path, read_only)\u001b[0m\n\u001b[1;32m     18\u001b[0m         \u001b[0mself\u001b[0m\u001b[0;34m.\u001b[0m\u001b[0mbbg\u001b[0m \u001b[0;34m=\u001b[0m \u001b[0mBloomberg\u001b[0m\u001b[0;34m(\u001b[0m\u001b[0;34m)\u001b[0m\u001b[0;34m\u001b[0m\u001b[0m\n\u001b[1;32m     19\u001b[0m         self.hdfstore = pd.HDFStore(path, mode='r' if read_only else 'a',\n\u001b[0;32m---> 20\u001b[0;31m                                     compression=0, complib='blosc')\n\u001b[0m\u001b[1;32m     21\u001b[0m \u001b[0;34m\u001b[0m\u001b[0m\n\u001b[1;32m     22\u001b[0m     \u001b[0;32mdef\u001b[0m \u001b[0mget_all_data\u001b[0m\u001b[0;34m(\u001b[0m\u001b[0mself\u001b[0m\u001b[0;34m)\u001b[0m\u001b[0;34m:\u001b[0m\u001b[0;34m\u001b[0m\u001b[0m\n",
      "\u001b[0;32m/usr/local/lib/python2.7/dist-packages/pandas/io/pytables.pyc\u001b[0m in \u001b[0;36m__init__\u001b[0;34m(self, path, mode, complevel, complib, fletcher32, **kwargs)\u001b[0m\n\u001b[1;32m    446\u001b[0m         \u001b[0mself\u001b[0m\u001b[0;34m.\u001b[0m\u001b[0m_fletcher32\u001b[0m \u001b[0;34m=\u001b[0m \u001b[0mfletcher32\u001b[0m\u001b[0;34m\u001b[0m\u001b[0m\n\u001b[1;32m    447\u001b[0m         \u001b[0mself\u001b[0m\u001b[0;34m.\u001b[0m\u001b[0m_filters\u001b[0m \u001b[0;34m=\u001b[0m \u001b[0mNone\u001b[0m\u001b[0;34m\u001b[0m\u001b[0m\n\u001b[0;32m--> 448\u001b[0;31m         \u001b[0mself\u001b[0m\u001b[0;34m.\u001b[0m\u001b[0mopen\u001b[0m\u001b[0;34m(\u001b[0m\u001b[0mmode\u001b[0m\u001b[0;34m=\u001b[0m\u001b[0mmode\u001b[0m\u001b[0;34m,\u001b[0m \u001b[0;34m**\u001b[0m\u001b[0mkwargs\u001b[0m\u001b[0;34m)\u001b[0m\u001b[0;34m\u001b[0m\u001b[0m\n\u001b[0m\u001b[1;32m    449\u001b[0m \u001b[0;34m\u001b[0m\u001b[0m\n\u001b[1;32m    450\u001b[0m     \u001b[0;34m@\u001b[0m\u001b[0mproperty\u001b[0m\u001b[0;34m\u001b[0m\u001b[0m\n",
      "\u001b[0;32m/usr/local/lib/python2.7/dist-packages/pandas/io/pytables.pyc\u001b[0m in \u001b[0;36mopen\u001b[0;34m(self, mode, **kwargs)\u001b[0m\n\u001b[1;32m    610\u001b[0m                             hdf_version=tables.get_hdf5_version()))\n\u001b[1;32m    611\u001b[0m \u001b[0;34m\u001b[0m\u001b[0m\n\u001b[0;32m--> 612\u001b[0;31m             \u001b[0;32mraise\u001b[0m \u001b[0me\u001b[0m\u001b[0;34m\u001b[0m\u001b[0m\n\u001b[0m\u001b[1;32m    613\u001b[0m \u001b[0;34m\u001b[0m\u001b[0m\n\u001b[1;32m    614\u001b[0m         \u001b[0;32mexcept\u001b[0m \u001b[0;34m(\u001b[0m\u001b[0mException\u001b[0m\u001b[0;34m)\u001b[0m \u001b[0;32mas\u001b[0m \u001b[0me\u001b[0m\u001b[0;34m:\u001b[0m\u001b[0;34m\u001b[0m\u001b[0m\n",
      "\u001b[0;31mValueError\u001b[0m: The file 'data/bbg_data.h5' is already opened, but in read-only mode.  Please close it before reopening in append mode."
     ]
    }
   ],
   "source": [
    "data_yc = pp.bloomberg_data.YC_Data(read_only=False)"
   ]
  },
  {
   "cell_type": "code",
   "execution_count": 24,
   "metadata": {
    "collapsed": true
   },
   "outputs": [],
   "source": []
  },
  {
   "cell_type": "code",
   "execution_count": null,
   "metadata": {
    "collapsed": true
   },
   "outputs": [],
   "source": []
  }
 ],
 "metadata": {
  "kernelspec": {
   "display_name": "Python 2",
   "language": "python",
   "name": "python2"
  },
  "language_info": {
   "codemirror_mode": {
    "name": "ipython",
    "version": 2
   },
   "file_extension": ".py",
   "mimetype": "text/x-python",
   "name": "python",
   "nbconvert_exporter": "python",
   "pygments_lexer": "ipython2",
   "version": "2.7.6"
  }
 },
 "nbformat": 4,
 "nbformat_minor": 1
}
